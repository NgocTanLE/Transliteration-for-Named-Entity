{
 "cells": [
  {
   "cell_type": "raw",
   "metadata": {},
   "source": [
    "# -*- coding: utf-8 -*-\n",
    "\"\"\"\n",
    "Created on Wed Jul 10 16:54:21 2019\n",
    "\n",
    "@author: letan\n",
    "\"\"\"\n",
    "#########################################\n",
    "# GOAL: \n",
    "# Sequence tagging using neural network-based approach, with CONLL format\n",
    "# Text segmentation using word embedding - LSTM for transfer learning :: FIRST MODEL \n",
    "#########################################"
   ]
  },
  {
   "cell_type": "markdown",
   "metadata": {},
   "source": [
    "# import libraries"
   ]
  },
  {
   "cell_type": "code",
   "execution_count": 69,
   "metadata": {
    "ExecuteTime": {
     "end_time": "2019-07-15T19:37:51.503070Z",
     "start_time": "2019-07-15T19:37:51.498085Z"
    }
   },
   "outputs": [],
   "source": [
    "import pandas as pd\n",
    "import numpy as np\n",
    "\n",
    "import matplotlib.pyplot as plt  # for graphics\n",
    "\n",
    "from keras.preprocessing.text import Tokenizer \n",
    "from keras.preprocessing.sequence import pad_sequences\n",
    "from keras.utils import to_categorical\n",
    "from keras.models import Model, Input # Sequential\n",
    "from keras.layers import LSTM, Embedding, Dense, TimeDistributed, Dropout, Bidirectional\n",
    "from keras.callbacks import ModelCheckpoint\n",
    "from keras.optimizers import Adam # SGD, RMSprop, \n",
    "\n",
    "from sklearn.model_selection import train_test_split\n",
    "from sklearn_crfsuite.metrics import flat_classification_report, flat_f1_score\n",
    "\n",
    "from gensim.models import FastText, KeyedVectors  # train w2v : Word2Vec\n",
    "\n",
    "import time # for time execution\n",
    "\n",
    "import os # for checking the file exists or not\n",
    "\n",
    "import yaml  # for configuration parameters\n"
   ]
  },
  {
   "cell_type": "raw",
   "metadata": {},
   "source": [
    "# Utility functions"
   ]
  },
  {
   "cell_type": "code",
   "execution_count": 70,
   "metadata": {
    "ExecuteTime": {
     "end_time": "2019-07-15T19:37:56.169120Z",
     "start_time": "2019-07-15T19:37:56.162138Z"
    }
   },
   "outputs": [],
   "source": [
    "##########################################\n",
    "# Goal: Create a word vector or word embedding, with gensim, Word2vec, FastText\n",
    "# Source: https://towardsdatascience.com/word-embedding-with-word2vec-and-fasttext-a209c1d3e12c\n",
    "##########################################\n",
    "#  == Strategie==\n",
    "# word embeddings files => load model => convert text data to digital data\n",
    "# => divide dataset into train, test => Feed training data into Mahine Learning Classifier and train clasiffier\n",
    "# => Predictions (testing) => output results\n",
    "# option: FastText\n",
    "def create_w2v_faster(text, cheminModele, cheminVocab, embSize=100):\n",
    "    #cheminModele = \"./models/fasttext_gensim.vec\"\n",
    "    #cheminVocab = \"./models/fasttext_gensim.vocab\"\n",
    "    \n",
    "    # train\n",
    "    model = FastText(text, size=embSize, window=5, min_count=1, sg=1, negative=5, hs =0)\n",
    "    \n",
    "    # save model\n",
    "    model.wv.save_word2vec_format(cheminModele, cheminVocab, binary=False)\n",
    "\n",
    "\n",
    "# class SentenceGetter allows to deal with sentences from raw data\n",
    "class SentenceGetter(object):\n",
    "    \n",
    "    def __init__(self, data):\n",
    "        self.n_sent = 1\n",
    "        self.data = data\n",
    "        self.empty = False\n",
    "        \n",
    "        # with 2 columns: Word - Tag\n",
    "        agg_func = lambda s: [(w, t) for w, t in zip(s[\"Word\"].values.tolist(),\n",
    "                                                     s[\"Tag\"].values.tolist())]\n",
    "        \n",
    "        # with 3 columns: Word - POS -  Tag\n",
    "        agg_func = lambda s: [(w, p, t) for w, p, t in zip(s[\"Word\"].values.tolist(),\n",
    "                                                           s[\"POS\"].values.tolist(),  # add the POS column, by Tan, 17042019\n",
    "                                                           s[\"Tag\"].values.tolist())]\n",
    "        \n",
    "        \n",
    "        \n",
    "        \n",
    "        # error: # bi loi cau thu 8 ???? ko lay lai data trung khop voi output_format.txt \n",
    "        # solution :: rajouter cette option sort=False dans groupby... garder l ordre du dataframe        \n",
    "        #self.grouped = self.data.groupby(\"Sentence #\").apply(agg_func)   # old version\n",
    "        self.grouped = self.data.groupby(\"Sentence #\", sort=False).apply(agg_func)  # new version\n",
    "\n",
    "        self.sentences = [s for s in self.grouped]\n",
    "    \n",
    "    def get_next(self):\n",
    "        try:\n",
    "            s = self.grouped[\"Sentence: {}\".format(self.n_sent)]\n",
    "            self.n_sent += 1\n",
    "            return s\n",
    "        except:\n",
    "            return None"
   ]
  },
  {
   "cell_type": "code",
   "execution_count": 119,
   "metadata": {
    "ExecuteTime": {
     "end_time": "2019-07-15T19:55:48.328798Z",
     "start_time": "2019-07-15T19:55:48.319822Z"
    }
   },
   "outputs": [],
   "source": [
    "#########################################\n",
    "# set parameters:\n",
    "config = yaml.safe_load(open('HyperParameters.yml'))   # all hyper-parameters\n",
    "#print(config['max_len'])  # display : maxlen = 50\n",
    "\n",
    "np.random.seed(42)  # for reproducibility\n",
    "\n",
    "path_absolute_source = config['path_absolute_source']\n",
    "path_absolute_target = config['path_absolute_target']\n",
    "path_emb_model = config['path_emb_model']\n",
    "path_emb_model_vocab = config['path_emb_model_vocab']\n",
    "path_model_source = config[\"path_model_source\"]\n",
    "path_model_target = config[\"path_model_target\"]\n",
    "\n",
    "flag_embed_trainable = config['flag_embed_trainable'] # embedding trainable=False or True\n",
    "flag_option_target_model = config['flag_option_target_model']  # 0: 1 FC only (by default), 1: 1 Dense + 1 FC, 2: 1 BiLSTM + 1 FC\n",
    "flag_option_experiment = config['flag_option_experiment'] # 0: Extracter Features, 1: Fine Tuning\n",
    "\n",
    "max_features = config['max_features'] # txt_vocab\n",
    "max_len = config['max_len'] #50 #400  # txt_max_sent_len\n",
    "batch_size = config['batch_size'] #10\n",
    "embedding_dims = config['embedding_dims'] #50 #100 #200\n",
    "hidden_dims = config['hidden_dims'] #100\n",
    "nb_epoch_source = config['nb_epoch_source'] # iteration for the base source model\n",
    "nb_epoch_target = config['nb_epoch_target'] # more iteration for the target model\n",
    "val_split = config['val_split'] #0.10, training set = 90%, val set = 10%\n",
    "dropout_prob = config['dropout_prob'] #0.20 # seuil pour y_preds\n",
    "#########################################"
   ]
  },
  {
   "cell_type": "raw",
   "metadata": {},
   "source": [
    "##############################################        \n",
    "#### MAIN PROGRAM #####\n",
    "############################################## "
   ]
  },
  {
   "cell_type": "markdown",
   "metadata": {},
   "source": [
    "# Step 1: Input, loading data"
   ]
  },
  {
   "cell_type": "code",
   "execution_count": 7,
   "metadata": {
    "ExecuteTime": {
     "end_time": "2019-07-15T19:13:14.957560Z",
     "start_time": "2019-07-15T19:13:14.555888Z"
    }
   },
   "outputs": [
    {
     "name": "stdout",
     "output_type": "stream",
     "text": [
      "\n",
      ">>> 1. Loading data...\n",
      "<class 'pandas.core.frame.DataFrame'>\n",
      "RangeIndex: 696053 entries, 0 to 696052\n",
      "Data columns (total 4 columns):\n",
      "Sentence #    696053 non-null object\n",
      "Word          696053 non-null object\n",
      "POS           696053 non-null object\n",
      "Tag           696053 non-null object\n",
      "dtypes: object(4)\n",
      "memory usage: 21.2+ MB\n"
     ]
    },
    {
     "data": {
      "text/html": [
       "<div>\n",
       "<style scoped>\n",
       "    .dataframe tbody tr th:only-of-type {\n",
       "        vertical-align: middle;\n",
       "    }\n",
       "\n",
       "    .dataframe tbody tr th {\n",
       "        vertical-align: top;\n",
       "    }\n",
       "\n",
       "    .dataframe thead th {\n",
       "        text-align: right;\n",
       "    }\n",
       "</style>\n",
       "<table border=\"1\" class=\"dataframe\">\n",
       "  <thead>\n",
       "    <tr style=\"text-align: right;\">\n",
       "      <th></th>\n",
       "      <th>Sentence #</th>\n",
       "      <th>Word</th>\n",
       "      <th>POS</th>\n",
       "      <th>Tag</th>\n",
       "    </tr>\n",
       "  </thead>\n",
       "  <tbody>\n",
       "    <tr>\n",
       "      <th>696043</th>\n",
       "      <td>Sentence: 27363</td>\n",
       "      <td>은</td>\n",
       "      <td>JXT</td>\n",
       "      <td>I</td>\n",
       "    </tr>\n",
       "    <tr>\n",
       "      <th>696044</th>\n",
       "      <td>Sentence: 27363</td>\n",
       "      <td>거의</td>\n",
       "      <td>MAG</td>\n",
       "      <td>O</td>\n",
       "    </tr>\n",
       "    <tr>\n",
       "      <th>696045</th>\n",
       "      <td>Sentence: 27363</td>\n",
       "      <td>일본</td>\n",
       "      <td>NQ</td>\n",
       "      <td>B</td>\n",
       "    </tr>\n",
       "    <tr>\n",
       "      <th>696046</th>\n",
       "      <td>Sentence: 27363</td>\n",
       "      <td>에서</td>\n",
       "      <td>JCA</td>\n",
       "      <td>I</td>\n",
       "    </tr>\n",
       "    <tr>\n",
       "      <th>696047</th>\n",
       "      <td>Sentence: 27363</td>\n",
       "      <td>수입</td>\n",
       "      <td>NCPA</td>\n",
       "      <td>B</td>\n",
       "    </tr>\n",
       "    <tr>\n",
       "      <th>696048</th>\n",
       "      <td>Sentence: 27363</td>\n",
       "      <td>하</td>\n",
       "      <td>XSV</td>\n",
       "      <td>I</td>\n",
       "    </tr>\n",
       "    <tr>\n",
       "      <th>696049</th>\n",
       "      <td>Sentence: 27363</td>\n",
       "      <td>고</td>\n",
       "      <td>ECX</td>\n",
       "      <td>I</td>\n",
       "    </tr>\n",
       "    <tr>\n",
       "      <th>696050</th>\n",
       "      <td>Sentence: 27363</td>\n",
       "      <td>있</td>\n",
       "      <td>PX</td>\n",
       "      <td>B</td>\n",
       "    </tr>\n",
       "    <tr>\n",
       "      <th>696051</th>\n",
       "      <td>Sentence: 27363</td>\n",
       "      <td>다</td>\n",
       "      <td>EF</td>\n",
       "      <td>I</td>\n",
       "    </tr>\n",
       "    <tr>\n",
       "      <th>696052</th>\n",
       "      <td>Sentence: 27363</td>\n",
       "      <td>.</td>\n",
       "      <td>SF</td>\n",
       "      <td>O</td>\n",
       "    </tr>\n",
       "  </tbody>\n",
       "</table>\n",
       "</div>"
      ],
      "text/plain": [
       "             Sentence # Word   POS Tag\n",
       "696043  Sentence: 27363    은   JXT   I\n",
       "696044  Sentence: 27363   거의   MAG   O\n",
       "696045  Sentence: 27363   일본    NQ   B\n",
       "696046  Sentence: 27363   에서   JCA   I\n",
       "696047  Sentence: 27363   수입  NCPA   B\n",
       "696048  Sentence: 27363    하   XSV   I\n",
       "696049  Sentence: 27363    고   ECX   I\n",
       "696050  Sentence: 27363    있    PX   B\n",
       "696051  Sentence: 27363    다    EF   I\n",
       "696052  Sentence: 27363    .    SF   O"
      ]
     },
     "execution_count": 7,
     "metadata": {},
     "output_type": "execute_result"
    }
   ],
   "source": [
    "print(\"\\n>>> 1. Loading data...\")\n",
    "\n",
    "data = pd.read_csv(path_absolute_source, delimiter='\\t',\n",
    "                   header=None, \n",
    "                   encoding='utf-8', \n",
    "                   quoting=3  # means QUOTE_NONE\n",
    "                   )\n",
    "\n",
    "data = data.rename(columns={0:'Sentence #', 1:'Word', 2: 'POS', 3: 'Tag'}) #.drop_duplicates()\n",
    "\n",
    "data.info()\n",
    "data.tail(10)"
   ]
  },
  {
   "cell_type": "markdown",
   "metadata": {},
   "source": [
    "# Step 2: Process \n"
   ]
  },
  {
   "cell_type": "code",
   "execution_count": 8,
   "metadata": {
    "ExecuteTime": {
     "end_time": "2019-07-15T19:13:18.193370Z",
     "start_time": "2019-07-15T19:13:18.140510Z"
    }
   },
   "outputs": [
    {
     "name": "stdout",
     "output_type": "stream",
     "text": [
      "#words =  29058\n",
      "#tags =  3\n",
      "tags =  ['I', 'O', 'B']\n"
     ]
    }
   ],
   "source": [
    "words = list(set(data[\"Word\"].values))\n",
    "words.append(\"ENDPAD\")\n",
    "\n",
    "# vocabulary size\n",
    "n_words = len(words)\n",
    "print(\"#words = \", n_words)    \n",
    "max_features = n_words\n",
    "      \n",
    "# all tags \n",
    "tags = list(set(data[\"Tag\"].values))    \n",
    "n_tags = len(tags)\n",
    "print(\"#tags = \", n_tags)   #  3 tags\n",
    "print(\"tags = \", tags)     # ['B', 'I', 'O']"
   ]
  },
  {
   "cell_type": "code",
   "execution_count": 9,
   "metadata": {
    "ExecuteTime": {
     "end_time": "2019-07-15T19:13:22.013473Z",
     "start_time": "2019-07-15T19:13:20.124046Z"
    }
   },
   "outputs": [
    {
     "name": "stdout",
     "output_type": "stream",
     "text": [
      "1 sentence looks like :  [('하기야', 'MAJ', 'O'), ('짐승', 'NCN', 'B'), ('도', 'JXC', 'I'), ('잘', 'MAG', 'O'), ('가르치', 'PVG', 'B'), ('기', 'ETN', 'I'), ('만', 'JXC', 'I'), ('하', 'PVG', 'B'), ('면', 'ECS', 'I'), ('어느', 'MMD', 'O'), ('정도', 'NCN', 'B'), ('는', 'JXT', 'I'), ('순치', 'NCPA', 'B'), ('되', 'XSV', 'I'), ('ㄹ', 'ETM', 'I'), ('수', 'NBN', 'O'), ('있', 'PAA', 'B'), ('다', 'EF', 'I'), ('.', 'SF', 'O')]\n",
      "[('하기야', 'MAJ', 'O'), ('짐승', 'NCN', 'B'), ('도', 'JXC', 'I'), ('잘', 'MAG', 'O'), ('가르치', 'PVG', 'B'), ('기', 'ETN', 'I'), ('만', 'JXC', 'I'), ('하', 'PVG', 'B'), ('면', 'ECS', 'I'), ('어느', 'MMD', 'O'), ('정도', 'NCN', 'B'), ('는', 'JXT', 'I'), ('순치', 'NCPA', 'B'), ('되', 'XSV', 'I'), ('ㄹ', 'ETM', 'I'), ('수', 'NBN', 'O'), ('있', 'PAA', 'B'), ('다', 'EF', 'I'), ('.', 'SF', 'O')]\n",
      "#sentences =  27363\n"
     ]
    }
   ],
   "source": [
    "# to call the class SentenceGetter to get sentences\n",
    "getter = SentenceGetter(data)\n",
    "sent = getter.get_next()\n",
    "print(\"1 sentence looks like : \" , sent)\n",
    "\n",
    "# to regroup all sentences\n",
    "sentences = getter.sentences\n",
    "print(sentences[0])\n",
    "print(\"#sentences = \", len(sentences))  "
   ]
  },
  {
   "cell_type": "code",
   "execution_count": 10,
   "metadata": {
    "ExecuteTime": {
     "end_time": "2019-07-15T19:13:23.588200Z",
     "start_time": "2019-07-15T19:13:23.380984Z"
    }
   },
   "outputs": [
    {
     "data": {
      "image/png": "[encoded data removed]",
      "text/plain": [
       "<Figure size 432x288 with 1 Axes>"
      ]
     },
     "metadata": {
      "needs_background": "light"
     },
     "output_type": "display_data"
    }
   ],
   "source": [
    "# visualize with graphics\n",
    "plt.hist([len(s) for s in sentences], bins=50)\n",
    "plt.title(\"Statistics of the corpus source\")\n",
    "plt.xlabel('length of sentences')\n",
    "plt.ylabel('#examples')\n",
    "#plt.show()\n",
    "plt.savefig('./outputs/Graphic_All_Length_Sentences_Whole_Corpus_Source.png')"
   ]
  },
  {
   "cell_type": "code",
   "execution_count": 11,
   "metadata": {
    "ExecuteTime": {
     "end_time": "2019-07-15T19:13:25.504281Z",
     "start_time": "2019-07-15T19:13:25.492336Z"
    }
   },
   "outputs": [
    {
     "name": "stdout",
     "output_type": "stream",
     "text": [
      "tag2idx :  {'I': 0, 'O': 1, 'B': 2}\n"
     ]
    }
   ],
   "source": [
    "\"\"\"\n",
    "#For the use of neural nets (at least with keras, this is no theoretical reason) \n",
    "#we need to use equal-lenght input sequences. So we are going to pad our sentences\n",
    "# to a length of 80. But first we need dictionaries of words and tags.\n",
    "\"\"\"\n",
    "# Training the model\n",
    "word2idx = {w: i for i, w in enumerate(words)}\n",
    "tag2idx = {t: i for i, t in enumerate(tags)}\n",
    "\n",
    "print(\"tag2idx : \", tag2idx)  # tag2idx :  {'I': 0, 'O': 1, 'B': 2}"
   ]
  },
  {
   "cell_type": "code",
   "execution_count": 12,
   "metadata": {
    "ExecuteTime": {
     "end_time": "2019-07-15T19:13:27.289665Z",
     "start_time": "2019-07-15T19:13:27.187807Z"
    }
   },
   "outputs": [],
   "source": [
    "# Add by Tan, mercredi 10/07/2019\n",
    "# list of sentences, w,p,t = word, pos_tag, bio_tag\n",
    "comments = [[w for w,p,t in s] for s in sentences] "
   ]
  },
  {
   "cell_type": "code",
   "execution_count": 13,
   "metadata": {
    "ExecuteTime": {
     "end_time": "2019-07-15T19:13:29.715316Z",
     "start_time": "2019-07-15T19:13:28.613163Z"
    }
   },
   "outputs": [
    {
     "name": "stdout",
     "output_type": "stream",
     "text": [
      "\n",
      ">>> Creating a word vector with gensim...\n",
      "\n",
      ">>> Loading the pretrained word vector with gensim...\n",
      "... from the file path ./models/fasttext_gensim.vec\n",
      "\n",
      "...done...\n"
     ]
    }
   ],
   "source": [
    "# option FastText embedding\n",
    "# call function to create a word embedding\n",
    "print(\"\\n>>> Creating a word vector with gensim...\")\n",
    "\n",
    "# check if the file does not exist then train w2v with gensim\n",
    "# else load the w2v model \n",
    "if os.path.isfile(path_emb_model) == False:  \n",
    "    create_w2v_faster(comments, path_emb_model, path_emb_model_vocab, 50)  \n",
    "    print('\\n...saved to file path: ' + path_emb_model)   \n",
    "else:\n",
    "    print(\"\\n>>> Loading the pretrained word vector with gensim...\")\n",
    "    print('... from the file path ' + path_emb_model)\n",
    "    model_w2v = KeyedVectors.load_word2vec_format(path_emb_model, binary=False)  # C text format\n",
    "\n",
    "print(\"\\n...done...\")"
   ]
  },
  {
   "cell_type": "code",
   "execution_count": 14,
   "metadata": {
    "ExecuteTime": {
     "end_time": "2019-07-15T19:13:32.677118Z",
     "start_time": "2019-07-15T19:13:32.660165Z"
    }
   },
   "outputs": [
    {
     "name": "stdout",
     "output_type": "stream",
     "text": [
      "\n",
      ">>> Testing the most_similar\n",
      "\n",
      "... shape of China : \n",
      "(50,)\n",
      "\n",
      "... the 10 first similar words of China : \n",
      "\t 중국...\n",
      "[('북중국', 0.8661185503005981), ('중국측', 0.8657894134521484), ('제국', 0.8544776439666748), ('중국어', 0.8408035039901733), ('침략', 0.8338326215744019), ('서역', 0.8323560953140259), ('소련', 0.8288898468017578), ('중국제', 0.8267003893852234), ('북방', 0.8230296969413757), ('훈', 0.8213281035423279)]\n"
     ]
    }
   ],
   "source": [
    "print(\"\\n>>> Testing the most_similar\")\n",
    "w = model_w2v['중국']\n",
    "print(\"\\n... shape of China : \")\n",
    "print(w.shape)\n",
    "print(\"\\n... the 10 first similar words of China : \")\n",
    "print(\"\\t 중국...\")\n",
    "print(model_w2v.most_similar('중국')) "
   ]
  },
  {
   "cell_type": "code",
   "execution_count": 15,
   "metadata": {
    "ExecuteTime": {
     "end_time": "2019-07-15T19:13:37.851586Z",
     "start_time": "2019-07-15T19:13:37.427559Z"
    }
   },
   "outputs": [
    {
     "name": "stdout",
     "output_type": "stream",
     "text": [
      "\n",
      ">>> Found 29058 word vectors.\n"
     ]
    }
   ],
   "source": [
    "# Preparing the embedding matrix\n",
    "embeddings_index = {}  # type: dict()\n",
    "\n",
    "# open the word2vec file\n",
    "f = open(path_emb_model, encoding='utf-8')\n",
    "\n",
    "# loop each line in the word2vec file\n",
    "for line in f:\n",
    "    values = line.split()\n",
    "    word = values[0]\n",
    "    coefs = np.asarray(values[1:], dtype='float32')\n",
    "    embeddings_index[word] = coefs\n",
    "\n",
    "# close the word2vec file\n",
    "f.close()\n",
    "\n",
    "print('\\n>>> Found %s word vectors.' % len(embeddings_index))"
   ]
  },
  {
   "cell_type": "code",
   "execution_count": 17,
   "metadata": {
    "ExecuteTime": {
     "end_time": "2019-07-15T19:14:27.346874Z",
     "start_time": "2019-07-15T19:14:26.757225Z"
    }
   },
   "outputs": [
    {
     "name": "stdout",
     "output_type": "stream",
     "text": [
      "\n",
      ">>> Found 29043 unique tokens.\n"
     ]
    }
   ],
   "source": [
    "# tokenization with keras.preprocessing.text\n",
    "MAX_NB_WORDS = n_words\n",
    "tokenizer = Tokenizer(num_words=MAX_NB_WORDS)\n",
    "tokenizer.fit_on_texts(comments)\n",
    "sequences = tokenizer.texts_to_sequences(comments)\n",
    "\n",
    "word_index = tokenizer.word_index  # dictionary: (key, value) = (token, number)\n",
    "print('\\n>>> Found %s unique tokens.' % len(word_index))"
   ]
  },
  {
   "cell_type": "code",
   "execution_count": 18,
   "metadata": {
    "ExecuteTime": {
     "end_time": "2019-07-15T19:14:29.024968Z",
     "start_time": "2019-07-15T19:14:28.997057Z"
    }
   },
   "outputs": [],
   "source": [
    "# embedding initializing\n",
    "EMBEDDING_DIM = max_len # 50 by default, 100\n",
    "embedding_matrix = np.zeros((len(word_index) + 1, EMBEDDING_DIM))\n",
    "for word, i in word_index.items():\n",
    "    embedding_vector = embeddings_index.get(word)\n",
    "    if embedding_vector is not None:\n",
    "        # words not found in embedding index will be all-zeros.\n",
    "        embedding_matrix[i] = embedding_vector"
   ]
  },
  {
   "cell_type": "code",
   "execution_count": 19,
   "metadata": {
    "ExecuteTime": {
     "end_time": "2019-07-15T19:14:36.269826Z",
     "start_time": "2019-07-15T19:14:35.611955Z"
    }
   },
   "outputs": [
    {
     "name": "stdout",
     "output_type": "stream",
     "text": [
      "\n",
      ">>> Length of X_train 24626, X_test 2737\n"
     ]
    }
   ],
   "source": [
    "# After creating of the embedding matrix, to need to pad_sequences of train,test,dev\n",
    "X = [[word_index.get(w[0],0) for w in s] for s in sentences] # list of sentences (<= list of words) = [[word2idx[w[0]] for w in s] for s in sentences]\n",
    "X = pad_sequences(maxlen=max_len, sequences=X, padding=\"post\", value=n_words - 1) \n",
    "\n",
    "# tag = label\n",
    "y = [[tag2idx[w[2]] for w in s] for s in sentences]    \n",
    "y = pad_sequences(maxlen=max_len, sequences=y, padding=\"post\", value=tag2idx[\"O\"])\n",
    "\n",
    "# For training the network we also need to change the labels y to categorial\n",
    "y = [to_categorical(i, num_classes=n_tags) for i in y]\n",
    "\n",
    "# We split in train, test set\n",
    "X_train, X_test, y_train, y_test = train_test_split(X, y, test_size=val_split)\n",
    "\n",
    "print(\"\\n>>> Length of X_train %d, X_test %d\" % (len(X_train), len(X_test)))"
   ]
  },
  {
   "cell_type": "markdown",
   "metadata": {},
   "source": [
    "## Create the base source model "
   ]
  },
  {
   "cell_type": "code",
   "execution_count": 120,
   "metadata": {
    "ExecuteTime": {
     "end_time": "2019-07-15T19:55:57.889734Z",
     "start_time": "2019-07-15T19:55:56.215235Z"
    }
   },
   "outputs": [
    {
     "name": "stdout",
     "output_type": "stream",
     "text": [
      "_________________________________________________________________\n",
      "Layer (type)                 Output Shape              Param #   \n",
      "=================================================================\n",
      "input (InputLayer)           (None, 50)                0         \n",
      "_________________________________________________________________\n",
      "word_embedding (Embedding)   (None, 50, 50)            1452200   \n",
      "_________________________________________________________________\n",
      "word_dropout (Dropout)       (None, 50, 50)            0         \n",
      "_________________________________________________________________\n",
      "biLSTM (Bidirectional)       (None, 50, 200)           120800    \n",
      "_________________________________________________________________\n",
      "fc_output_layer (TimeDistrib (None, 50, 3)             603       \n",
      "=================================================================\n",
      "Total params: 1,573,603\n",
      "Trainable params: 1,573,603\n",
      "Non-trainable params: 0\n",
      "_________________________________________________________________\n"
     ]
    }
   ],
   "source": [
    "# Architecture of the base source model\n",
    "txt_input = Input(shape=(max_len,), name='input')\n",
    "\n",
    "# without the embedding matrix\n",
    "#model = Embedding(input_dim=n_words, output_dim=50, input_length=max_len)(input)\n",
    "\n",
    "# with the embedding matrix\n",
    "wv_layer = Embedding(len(word_index)+1,   # or n_words or MAX_NB_WORDS\n",
    "                     EMBEDDING_DIM,\n",
    "                     weights=[embedding_matrix],\n",
    "                     input_length=max_len,\n",
    "                     name='word_embedding',\n",
    "                     trainable=flag_embed_trainable  #False  # True\n",
    "                     )\n",
    "\n",
    "model = wv_layer(txt_input)\n",
    "model = Dropout(dropout_prob, name='word_dropout')(model)\n",
    "model = Bidirectional(LSTM(units=hidden_dims, return_sequences=True, \n",
    "                           recurrent_dropout=dropout_prob), \n",
    "                        name='biLSTM')(model)\n",
    "output = TimeDistributed(Dense(n_tags, activation=\"softmax\"),\n",
    "                         name='fc_output_layer')(model)  # softmax output layer\n",
    "\n",
    "# creating the architecture of the base source model\n",
    "source_model = Model(txt_input, output)\n",
    "\n",
    "# summary the base source model\n",
    "source_model.summary()"
   ]
  },
  {
   "cell_type": "code",
   "execution_count": 21,
   "metadata": {
    "ExecuteTime": {
     "end_time": "2019-07-15T19:14:45.400329Z",
     "start_time": "2019-07-15T19:14:45.364423Z"
    }
   },
   "outputs": [],
   "source": [
    "# compile the base source model \n",
    "source_model.compile(optimizer=\"rmsprop\", loss=\"categorical_crossentropy\", metrics=[\"accuracy\"])\n",
    "\n",
    "# create the checkpoint\n",
    "checkpoint = ModelCheckpoint(path_model_source,\n",
    "                              monitor='val_acc', \n",
    "                              verbose=2, \n",
    "                              save_best_only=True,\n",
    "                              mode='max')"
   ]
  },
  {
   "cell_type": "code",
   "execution_count": 61,
   "metadata": {
    "ExecuteTime": {
     "end_time": "2019-07-15T19:28:16.843992Z",
     "start_time": "2019-07-15T19:26:55.251394Z"
    },
    "scrolled": true
   },
   "outputs": [
    {
     "name": "stdout",
     "output_type": "stream",
     "text": [
      "Train on 22163 samples, validate on 2463 samples\n",
      "Epoch 1/10\n",
      " - 8s - loss: 0.0576 - acc: 0.9783 - val_loss: 0.0461 - val_acc: 0.9813\n",
      "Epoch 2/10\n",
      " - 8s - loss: 0.0379 - acc: 0.9850 - val_loss: 0.0421 - val_acc: 0.9827\n",
      "Epoch 3/10\n",
      " - 8s - loss: 0.0344 - acc: 0.9864 - val_loss: 0.0410 - val_acc: 0.9834\n",
      "Epoch 4/10\n",
      " - 8s - loss: 0.0321 - acc: 0.9873 - val_loss: 0.0403 - val_acc: 0.9836\n",
      "Epoch 5/10\n",
      " - 8s - loss: 0.0303 - acc: 0.9882 - val_loss: 0.0400 - val_acc: 0.9840\n",
      "Epoch 6/10\n",
      " - 8s - loss: 0.0293 - acc: 0.9885 - val_loss: 0.0402 - val_acc: 0.9840\n",
      "Epoch 7/10\n",
      " - 8s - loss: 0.0281 - acc: 0.9890 - val_loss: 0.0396 - val_acc: 0.9842\n",
      "Epoch 8/10\n",
      " - 8s - loss: 0.0273 - acc: 0.9893 - val_loss: 0.0395 - val_acc: 0.9845\n",
      "Epoch 9/10\n",
      " - 8s - loss: 0.0265 - acc: 0.9897 - val_loss: 0.0392 - val_acc: 0.9842\n",
      "Epoch 10/10\n",
      " - 8s - loss: 0.0254 - acc: 0.9901 - val_loss: 0.0400 - val_acc: 0.9842\n",
      "\n",
      ">>> Training time for the base source model: 81.58758306503296 seconds\n"
     ]
    }
   ],
   "source": [
    "# time execution\n",
    "start_time_source = time.time()   # now()\n",
    "\n",
    "## (1) Train the neural network model\n",
    "history = source_model.fit(X_train, np.array(y_train), \n",
    "                           batch_size=batch_size, \n",
    "                           epochs=nb_epoch_source, \n",
    "                           callbacks=[checkpoint],\n",
    "                           validation_split=val_split, \n",
    "                           verbose=2)  #1\n",
    "\n",
    "# time execution\n",
    "stop_time_source = time.time() - start_time_source\n",
    "print('\\n>>> Training time for the base source model: %s seconds' % stop_time_source)"
   ]
  },
  {
   "cell_type": "code",
   "execution_count": 23,
   "metadata": {
    "ExecuteTime": {
     "end_time": "2019-07-15T19:16:29.226672Z",
     "start_time": "2019-07-15T19:16:29.211723Z"
    }
   },
   "outputs": [
    {
     "name": "stdout",
     "output_type": "stream",
     "text": [
      "\n",
      ">>> Saved model to disk\n",
      "\n",
      "...saved to file path: ./models/weights_lstm_ko_kaist.hdf5\n",
      "\n",
      "...done\n"
     ]
    }
   ],
   "source": [
    "# serialize weights to HDF5\n",
    "print(\"\\n>>> Saved model to disk\")\n",
    "source_model.save_weights(path_model_source)\n",
    "print('\\n...saved to file path: ' + path_model_source)\n",
    "print(\"\\n...done\")"
   ]
  },
  {
   "cell_type": "markdown",
   "metadata": {},
   "source": [
    "## Evaluate the base source model "
   ]
  },
  {
   "cell_type": "code",
   "execution_count": 24,
   "metadata": {
    "ExecuteTime": {
     "end_time": "2019-07-15T19:16:34.832116Z",
     "start_time": "2019-07-15T19:16:34.828102Z"
    }
   },
   "outputs": [
    {
     "name": "stdout",
     "output_type": "stream",
     "text": [
      "\n",
      ">>> Best value accuracy: 98.35%\n"
     ]
    }
   ],
   "source": [
    "best_val_acc_source = max(history.history['val_acc'])\n",
    "print(\"\\n>>> Best value accuracy: {:.2%}\".format(best_val_acc_source))"
   ]
  },
  {
   "cell_type": "code",
   "execution_count": 25,
   "metadata": {
    "ExecuteTime": {
     "end_time": "2019-07-15T19:16:42.431950Z",
     "start_time": "2019-07-15T19:16:42.227465Z"
    }
   },
   "outputs": [
    {
     "data": {
      "image/png": "[encoded data removed]",
      "text/plain": [
       "<Figure size 864x864 with 1 Axes>"
      ]
     },
     "metadata": {
      "needs_background": "light"
     },
     "output_type": "display_data"
    }
   ],
   "source": [
    "# visualize with graphics\n",
    "hist = pd.DataFrame(history.history)\n",
    "plt.figure(figsize=(12,12))\n",
    "plt.plot(hist[\"acc\"])\n",
    "plt.plot(hist[\"val_acc\"])\n",
    "plt.plot(hist[\"loss\"])\n",
    "plt.plot(hist[\"val_loss\"])\n",
    "plt.legend()\n",
    "plt.title('Accuracy and Loss about Training the Base Source Model')\n",
    "plt.xlabel('epochs')\n",
    "plt.ylabel('validation accuracy')\n",
    "plt.savefig('./outputs/Graphic_Val_accuracy_Training_Model_Source.png')       # for history\n",
    "# plt.show()"
   ]
  },
  {
   "cell_type": "raw",
   "metadata": {},
   "source": [
    "# Output Prediction "
   ]
  },
  {
   "cell_type": "code",
   "execution_count": 85,
   "metadata": {
    "ExecuteTime": {
     "end_time": "2019-07-15T19:44:21.370391Z",
     "start_time": "2019-07-15T19:44:18.128632Z"
    }
   },
   "outputs": [
    {
     "name": "stdout",
     "output_type": "stream",
     "text": [
      "\n",
      ">>> Make prediction of classes from the base source model\n"
     ]
    }
   ],
   "source": [
    "print('\\n>>> Make prediction of classes from the base source model')\n",
    "test_preds = source_model.predict(X_test, verbose=2) # 1\n",
    "\n",
    "idx2tag = {i: w for w, i in tag2idx.items()}\n",
    "\n",
    "# function to convert the prediction to label BIO\n",
    "def pred2label(pred):\n",
    "    out = []\n",
    "    for pred_i in pred:\n",
    "        out_i = []\n",
    "        for p in pred_i:\n",
    "            p_i = np.argmax(p)\n",
    "            out_i.append(idx2tag[p_i].replace(\"PAD\", \"O\"))\n",
    "#            out_i.append(idx2tag[p_i].replace(\"PAD\", \" \")) # by Tan, lundi 08/04/2019\n",
    "        out.append(out_i)\n",
    "    return out\n",
    "\n",
    "# to convert prediction and test labels\n",
    "pred_labels = pred2label(test_preds)\n",
    "test_labels = pred2label(y_test)"
   ]
  },
  {
   "cell_type": "raw",
   "metadata": {},
   "source": [
    "# Evalute the predictions from the base source model"
   ]
  },
  {
   "cell_type": "code",
   "execution_count": 86,
   "metadata": {
    "ExecuteTime": {
     "end_time": "2019-07-15T19:44:26.295683Z",
     "start_time": "2019-07-15T19:44:26.216881Z"
    }
   },
   "outputs": [
    {
     "name": "stdout",
     "output_type": "stream",
     "text": [
      "\n",
      ">>> F1-score: 98.51%\n"
     ]
    }
   ],
   "source": [
    "print(\"\\n>>> F1-score: {:.2%}\".format(flat_f1_score(test_labels, pred_labels, average='weighted')))"
   ]
  },
  {
   "cell_type": "code",
   "execution_count": 87,
   "metadata": {
    "ExecuteTime": {
     "end_time": "2019-07-15T19:44:27.937913Z",
     "start_time": "2019-07-15T19:44:27.720507Z"
    }
   },
   "outputs": [
    {
     "name": "stdout",
     "output_type": "stream",
     "text": [
      "\n",
      ">>> Classification Report:\n",
      "\n",
      "              precision    recall  f1-score   support\n",
      "\n",
      "           B       0.96      0.97      0.96     24696\n",
      "           I       0.98      0.99      0.98     34845\n",
      "           O       1.00      0.99      0.99     77309\n",
      "\n",
      "   micro avg       0.99      0.99      0.99    136850\n",
      "   macro avg       0.98      0.98      0.98    136850\n",
      "weighted avg       0.99      0.99      0.99    136850\n",
      "\n"
     ]
    }
   ],
   "source": [
    "print('\\n>>> Classification Report:\\n')\n",
    "print(flat_classification_report(test_labels, pred_labels))"
   ]
  },
  {
   "cell_type": "raw",
   "metadata": {},
   "source": [
    "############################################################\n",
    "## TRANSFER LEARNING ##\n",
    "## Strategie:\n",
    "## (1) Train the neural network model (see above)\n",
    "## (2) FINE TUNE MORE LAYERS\n",
    "## (3) Evaluate the new model\n",
    "############################################################"
   ]
  },
  {
   "cell_type": "markdown",
   "metadata": {},
   "source": [
    "## Create the target model "
   ]
  },
  {
   "cell_type": "code",
   "execution_count": 29,
   "metadata": {
    "ExecuteTime": {
     "end_time": "2019-07-15T19:17:04.862901Z",
     "start_time": "2019-07-15T19:17:04.787000Z"
    }
   },
   "outputs": [],
   "source": [
    "# prepare a new dataset (train, dev, test), e.g. ko_gsd_all.conllu.txt\n",
    "data_new = pd.read_csv(path_absolute_target,\n",
    "                       delimiter='\\t',header=None,\n",
    "                       encoding='utf-8', \n",
    "                       quoting=3  # means QUOTE_NONE\n",
    "                       )\n",
    "# engine='python', encoding='utf-8'\n",
    "# error_bad_lines=False\n",
    "# Source: https://stackoverflow.com/questions/18016037/pandas-parsererror-eof-character-when-reading-multiple-csv-files-to-hdf5\n",
    "# I had a similar problem. \n",
    "#The line listed with the 'EOF inside string' had a string that \n",
    "#contained within it a single quote mark. \n",
    "#When I added the option quoting=csv.QUOTE_NONE it fixed my problem.\n",
    "#csv.QUOTE_NONE means that quotes are never placed around fields.\n",
    "\n",
    "data_new = data_new.rename(columns={0:'Sentence #', 1:'Word', 2: 'POS', 3: 'Tag'}) #.drop_duplicates()"
   ]
  },
  {
   "cell_type": "code",
   "execution_count": 91,
   "metadata": {
    "ExecuteTime": {
     "end_time": "2019-07-15T19:46:23.224011Z",
     "start_time": "2019-07-15T19:46:23.211039Z"
    }
   },
   "outputs": [
    {
     "name": "stdout",
     "output_type": "stream",
     "text": [
      "#new_tags =  3\n",
      "new tags =  ['I', 'O', 'B']\n"
     ]
    }
   ],
   "source": [
    "words_new = list(set(data_new[\"Word\"].values))\n",
    "words_new.append(\"ENDPAD\")\n",
    "\n",
    "# target new vocabulary size\n",
    "n_words_new = len(words_new)\n",
    "max_features = n_words_new      # update the max_features or txt_vocab_size\n",
    "\n",
    "# all new target tags \n",
    "tags_new = list(set(data_new[\"Tag\"].values))\n",
    "n_tags_new = len(tags_new)\n",
    "print(\"#new_tags = \", n_tags_new)   #  4 tags\n",
    "print(\"new tags = \", tags_new)     # ['S', 'B', 'E', 'I']"
   ]
  },
  {
   "cell_type": "code",
   "execution_count": 31,
   "metadata": {
    "ExecuteTime": {
     "end_time": "2019-07-15T19:17:07.702962Z",
     "start_time": "2019-07-15T19:17:07.260078Z"
    }
   },
   "outputs": [
    {
     "name": "stdout",
     "output_type": "stream",
     "text": [
      "\n",
      "1 sentence looks like :  [('사람', 'NCN', 'B'), ('이', 'JCS', 'I'), ('스스로', 'MAG', 'O'), ('만물', 'NCN', 'B'), ('의', 'JCM', 'I'), ('영장', 'NCN', 'B'), ('이', 'JP', 'I'), ('라', 'ECS', 'I'), ('하', 'PVG', 'B'), ('고', 'ECS', 'I'), ('우쭐대', 'PVG', 'B'), ('는', 'ETM', 'I'), ('까닭', 'NCN', 'B'), ('이', 'JCS', 'I'), ('여기', 'NPD', 'B'), ('에', 'JCA', 'I'), ('있', 'PAA', 'B'), ('다', 'EF', 'I'), ('.', 'SF', 'O')]\n",
      "[('잡스', 'NNP', 'B'), ('는', 'JX', 'I'), ('워즈니악', 'NNP', 'B'), ('에게', 'JKB', 'I'), ('보수', 'NNG', 'B'), ('를', 'JKO', 'I'), ('반', 'NNG', 'B'), ('씩', 'XSN', 'I'), ('나누', 'VV', 'B'), ('는', 'ETM', 'I'), ('조건', 'NNG', 'B'), ('으로', 'JKB', 'I'), ('도움', 'NNG', 'B'), ('을', 'JKO', 'I'), ('청', 'NNG', 'B'), ('하', 'XSV', 'I'), ('고', 'EC', 'I'), ('워즈니악', 'NNP', 'B'), ('은', 'JX', 'I'), ('불과', 'MAG', 'O'), ('4', 'SN', 'B'), ('일만', 'NR', 'I'), ('에', 'JKB', 'I'), ('45', 'SN', 'B'), ('개', 'NNB', 'I'), ('의', 'JKG', 'I'), ('칩', 'NNG', 'B'), ('만', 'JX', 'I'), ('으로', 'JKB', 'I'), ('게임', 'NNG', 'B'), ('을', 'JKO', 'I'), ('설계', 'NNG', 'B'), ('하', 'XSV', 'I'), ('아', 'EC', 'I'), ('내', 'VX', 'I'), ('지만', 'EC', 'I'), (',', 'SP', 'O'), ('잡스', 'NNP', 'B'), ('는', 'JX', 'I'), ('워즈니악', 'NNP', 'B'), ('에게', 'JKB', 'I'), ('기본', 'NNG', 'O'), ('수고비', 'NNG', 'B'), ('의', 'JKG', 'I'), ('절반', 'NNG', 'B'), ('이', 'VCP', 'I'), ('ㄴ', 'ETM', 'I'), ('350', 'SN', 'B'), ('달러', 'NNB', 'I'), ('만', 'JX', 'I'), ('을', 'JKO', 'I'), ('주', 'VV', 'B'), ('었', 'EP', 'I'), ('다', 'EF', 'I'), ('.', 'SF', 'O')]\n",
      "\n",
      "#new_sentences =  6339\n"
     ]
    }
   ],
   "source": [
    "# to call the class SentenceGetter to get sentences\n",
    "getter_new = SentenceGetter(data_new)\n",
    "sent_new = getter.get_next()\n",
    "\n",
    "print(\"\\n1 sentence looks like : \" , sent_new)\n",
    "\n",
    "# to regroup all sentences\n",
    "sentences_new = getter_new.sentences\n",
    "print(sentences_new[0])\n",
    "print(\"\\n#new_sentences = \", len(sentences_new))"
   ]
  },
  {
   "cell_type": "code",
   "execution_count": 32,
   "metadata": {
    "ExecuteTime": {
     "end_time": "2019-07-15T19:17:09.101933Z",
     "start_time": "2019-07-15T19:17:08.819721Z"
    }
   },
   "outputs": [
    {
     "data": {
      "image/png": "[encoded data removed]",
      "text/plain": [
       "<Figure size 432x288 with 1 Axes>"
      ]
     },
     "metadata": {
      "needs_background": "light"
     },
     "output_type": "display_data"
    }
   ],
   "source": [
    "# visualize with graphics\n",
    "plt.hist([len(s) for s in sentences_new], bins=50)\n",
    "plt.title(\"Statistics of the target corpus\")\n",
    "plt.xlabel('length of sentences')\n",
    "plt.ylabel('#examples')\n",
    "#plt.show()\n",
    "plt.savefig('./outputs/Graphic_All_Length_Sentences_Whole_Corpus_Target.png')"
   ]
  },
  {
   "cell_type": "raw",
   "metadata": {},
   "source": [
    "#For the use of neural nets (at least with keras, this is no theoretical reason) \n",
    "#we need to use equal-lenght input sequences. So we are going to pad our sentences\n",
    "# to a length of 80. But first we need dictionaries of words and tags."
   ]
  },
  {
   "cell_type": "code",
   "execution_count": 90,
   "metadata": {
    "ExecuteTime": {
     "end_time": "2019-07-15T19:46:04.946478Z",
     "start_time": "2019-07-15T19:46:04.937505Z"
    }
   },
   "outputs": [
    {
     "name": "stdout",
     "output_type": "stream",
     "text": [
      "new tag2idx :  {'I': 0, 'O': 1, 'B': 2}\n",
      "old tag2idx :  {'I': 0, 'O': 1, 'B': 2}\n"
     ]
    }
   ],
   "source": [
    "# Preparing the training data for the target model\n",
    "word2idx_new = {w: i for i, w in enumerate(words_new)}\n",
    "tag2idx_new = {t: i for i, t in enumerate(tags_new)}\n",
    "# tag2idx_new = tag2idx\n",
    "\n",
    "print(\"new tag2idx : \", tag2idx_new)    # tag2idx  i.e. {'B': 0, 'I': 1, 'O': 2}\n",
    "print(\"old tag2idx : \", tag2idx)        # tag2idx  i.e. {'B': 0, 'I': 1, 'O': 2}"
   ]
  },
  {
   "cell_type": "code",
   "execution_count": 34,
   "metadata": {
    "ExecuteTime": {
     "end_time": "2019-07-15T19:17:14.189035Z",
     "start_time": "2019-07-15T19:17:14.060370Z"
    }
   },
   "outputs": [
    {
     "name": "stdout",
     "output_type": "stream",
     "text": [
      "\n",
      ">>> Length of new datasets: X_train 5705, X_test 634\n"
     ]
    }
   ],
   "source": [
    "# Now we map the senctences to a sequence of numbers and then pad the sequence\n",
    "# word to padding sequences\n",
    "X_new = [[word2idx_new[w[0]] for w in s] for s in sentences_new]\n",
    "X_new = pad_sequences(maxlen=max_len, sequences=X_new, padding=\"post\", value=n_words_new - 1)\n",
    "\n",
    "# tag = label\n",
    "y_new = [[tag2idx_new[w[2]] for w in s] for s in sentences_new]    \n",
    "y_new = pad_sequences(maxlen=max_len, sequences=y_new, padding=\"post\", value=tag2idx_new[\"O\"])\n",
    "\n",
    "# For training the network we also need to change the labels y to categorial\n",
    "y_new = [to_categorical(i, num_classes=n_tags_new) for i in y_new]                            \n",
    "                                    \n",
    "# We split in train, test set\n",
    "X_train_new, X_test_new, y_train_new, y_test_new = train_test_split(X_new, y_new, test_size=val_split)\n",
    "\n",
    "print(\"\\n>>> Length of new datasets: X_train %d, X_test %d\" % (len(X_train_new), len(X_test_new)))"
   ]
  },
  {
   "cell_type": "raw",
   "metadata": {},
   "source": [
    "## Extractor Features or Fine Tuning more layers from the base source model\n",
    "# we chose to train the top blocks\n",
    "# ... e.g. we will freeze the first 4 layers and unfreeze the rest\n",
    "# ... or another word, all the top layers, except the last layer"
   ]
  },
  {
   "cell_type": "code",
   "execution_count": 133,
   "metadata": {
    "ExecuteTime": {
     "end_time": "2019-07-15T20:21:02.986077Z",
     "start_time": "2019-07-15T20:21:02.981057Z"
    }
   },
   "outputs": [
    {
     "name": "stdout",
     "output_type": "stream",
     "text": [
      "\n",
      "...model input_shape and output_shape...\n",
      "(None, 50)\n",
      "(None, 50, 3)\n"
     ]
    }
   ],
   "source": [
    "# get all information\n",
    "print(\"\\n...model input_shape and output_shape...\")\n",
    "print(source_model.input_shape)\n",
    "print(source_model.output_shape)"
   ]
  },
  {
   "cell_type": "code",
   "execution_count": 134,
   "metadata": {
    "ExecuteTime": {
     "end_time": "2019-07-15T20:21:22.413915Z",
     "start_time": "2019-07-15T20:21:22.407907Z"
    }
   },
   "outputs": [
    {
     "name": "stdout",
     "output_type": "stream",
     "text": [
      "\n",
      "...model input_shape and output_shape...\n",
      "(None, 50)\n",
      "(None, 50, 3)\n"
     ]
    }
   ],
   "source": [
    "# get all information\n",
    "print(\"\\n...model input_shape and output_shape...\")\n",
    "print(target_model.input_shape)\n",
    "print(target_model.output_shape)"
   ]
  },
  {
   "cell_type": "code",
   "execution_count": 144,
   "metadata": {
    "ExecuteTime": {
     "end_time": "2019-07-15T20:26:55.957403Z",
     "start_time": "2019-07-15T20:26:55.474695Z"
    }
   },
   "outputs": [
    {
     "name": "stdout",
     "output_type": "stream",
     "text": [
      "\n",
      ">>> For the architecture of layers of the target model...\n",
      "\n",
      "...target layer option: 1 BiLSTM + 1 FC...\n",
      "\n",
      ">>> Architecture of the target model\n",
      "\n",
      "_________________________________________________________________\n",
      "Layer (type)                 Output Shape              Param #   \n",
      "=================================================================\n",
      "input (InputLayer)           (None, 50)                0         \n",
      "_________________________________________________________________\n",
      "word_embedding (Embedding)   (None, 50, 50)            1452200   \n",
      "_________________________________________________________________\n",
      "word_dropout (Dropout)       (None, 50, 50)            0         \n",
      "_________________________________________________________________\n",
      "biLSTM (Bidirectional)       (None, 50, 200)           120800    \n",
      "_________________________________________________________________\n",
      "biLSTM_target (Bidirectional (None, 50, 200)           240800    \n",
      "_________________________________________________________________\n",
      "fc_output_target_model (Time (None, 50, 3)             603       \n",
      "=================================================================\n",
      "Total params: 1,814,403\n",
      "Trainable params: 1,814,403\n",
      "Non-trainable params: 0\n",
      "_________________________________________________________________\n"
     ]
    }
   ],
   "source": [
    "# Architecture of the target model\n",
    "# to get the lastest layer from the base source model\n",
    "last_layer = source_model.layers[-2].output\n",
    "\n",
    "print('\\n>>> For the architecture of layers of the target model...')\n",
    "# output layer: a logistic layer, with n_tags classes\n",
    "if flag_option_target_model == 1:\n",
    "    ### 1 Dense + 1 FC\n",
    "    print('\\n...target layer option: 1 Dense + 1 FC...')\n",
    "    x = Dense(hidden_dims, name='dense')(last_layer)\n",
    "    out2 = TimeDistributed(Dense(n_tags_new, \n",
    "                                 activation=\"softmax\"),\n",
    "                            name='fc_output_target_model')(x)  # softmax output layer\n",
    "elif flag_option_target_model == 2:\n",
    "    ## 1 BiLSTM + 1 FC\n",
    "    print('\\n...target layer option: 1 BiLSTM + 1 FC...')\n",
    "    x = Dropout(0.1)(last_layer)\n",
    "    x = Bidirectional(LSTM(units=100, return_sequences=True, \n",
    "                           recurrent_dropout=0.1), name='biLSTM_target')(last_layer)\n",
    "    ###x = Dropout(0.5)(x)\n",
    "    out2 = TimeDistributed(Dense(n_tags_new, activation=\"softmax\" \n",
    "                                 ), name='fc_output_target_model')(x)  # softmax output layer\n",
    "else:   # by default\n",
    "    ## 1 FC only\n",
    "    print('\\n...target layer option: 1 FC, by default...')\n",
    "    out2 = TimeDistributed(Dense(n_tags_new, \n",
    "                                 activation=\"softmax\"),\n",
    "                            name='fc_output_target_model')(last_layer)  # softmax output layer\n",
    "    \n",
    "# creation target_model, with inputs=source_model.input from the baseline model\n",
    "target_model = Model(inputs=source_model.input, outputs=out2)\n",
    "\n",
    "# summary of the target model\n",
    "print('\\n>>> Architecture of the target model\\n')\n",
    "target_model.summary()"
   ]
  },
  {
   "cell_type": "code",
   "execution_count": 135,
   "metadata": {
    "ExecuteTime": {
     "end_time": "2019-07-15T20:21:44.598118Z",
     "start_time": "2019-07-15T20:21:44.579169Z"
    }
   },
   "outputs": [
    {
     "name": "stdout",
     "output_type": "stream",
     "text": [
      "\n",
      ">>> Architecture of the base source model\n",
      "\n",
      "_________________________________________________________________\n",
      "Layer (type)                 Output Shape              Param #   \n",
      "=================================================================\n",
      "input (InputLayer)           (None, 50)                0         \n",
      "_________________________________________________________________\n",
      "word_embedding (Embedding)   (None, 50, 50)            1452200   \n",
      "_________________________________________________________________\n",
      "word_dropout (Dropout)       (None, 50, 50)            0         \n",
      "_________________________________________________________________\n",
      "biLSTM (Bidirectional)       (None, 50, 200)           120800    \n",
      "_________________________________________________________________\n",
      "fc_output_layer (TimeDistrib (None, 50, 3)             603       \n",
      "=================================================================\n",
      "Total params: 1,573,603\n",
      "Trainable params: 1,573,603\n",
      "Non-trainable params: 0\n",
      "_________________________________________________________________\n"
     ]
    }
   ],
   "source": [
    "print('\\n>>> Architecture of the base source model\\n')\n",
    "source_model.summary()  # display again the whole architecture of the base source model"
   ]
  },
  {
   "cell_type": "code",
   "execution_count": 145,
   "metadata": {
    "ExecuteTime": {
     "end_time": "2019-07-15T20:27:00.121477Z",
     "start_time": "2019-07-15T20:27:00.115470Z"
    }
   },
   "outputs": [
    {
     "name": "stdout",
     "output_type": "stream",
     "text": [
      "#num_layers_source = 5\n",
      "#num_layers_target = 6\n",
      "#num_layers_target - #num_layers_source = 1\n"
     ]
    }
   ],
   "source": [
    "# difference of #num_layers from the base source model and the target model\n",
    "print('#num_layers_source = %s' % len(source_model.layers)) \n",
    "print('#num_layers_target = %s' % len(target_model.layers)) \n",
    "print('#num_layers_target - #num_layers_source = %s' % (len(target_model.layers) - len(source_model.layers)))"
   ]
  },
  {
   "cell_type": "code",
   "execution_count": 136,
   "metadata": {
    "ExecuteTime": {
     "end_time": "2019-07-15T20:21:49.625238Z",
     "start_time": "2019-07-15T20:21:49.620276Z"
    }
   },
   "outputs": [
    {
     "name": "stdout",
     "output_type": "stream",
     "text": [
      "\n",
      "...experiment option: Fine Tuning only...\n"
     ]
    }
   ],
   "source": [
    "if flag_option_experiment == 0: # Extractor Features only, by default  \n",
    "    print('\\n...experiment option: Extractor Features only, by default...')\n",
    "    for layer in source_model.layers[:-1]:\n",
    "        layer.trainable = False\n",
    "    \n",
    "    # for the lastest layer\n",
    "    source_model.layers[-1].trainable = True\n",
    "    \n",
    "elif flag_option_experiment == 1: # Fine Tuning only\n",
    "    print('\\n...experiment option: Fine Tuning only...')\n",
    "    # unfreeze all layers from the model 1\n",
    "    for layer in source_model.layers:\n",
    "        layer.trainable = True"
   ]
  },
  {
   "cell_type": "code",
   "execution_count": 137,
   "metadata": {
    "ExecuteTime": {
     "end_time": "2019-07-15T20:21:51.427225Z",
     "start_time": "2019-07-15T20:21:51.419249Z"
    }
   },
   "outputs": [
    {
     "name": "stdout",
     "output_type": "stream",
     "text": [
      "\n",
      "...trainable of the base source model...\n",
      "\n",
      "True\n",
      "True\n",
      "True\n",
      "True\n",
      "True\n"
     ]
    }
   ],
   "source": [
    "# check True, False each layers from the base source model \n",
    "print('\\n...trainable of the base source model...\\n')\n",
    "for l in source_model.layers:\n",
    "    print(l.trainable)"
   ]
  },
  {
   "cell_type": "code",
   "execution_count": 138,
   "metadata": {
    "ExecuteTime": {
     "end_time": "2019-07-15T20:21:54.494941Z",
     "start_time": "2019-07-15T20:21:54.484963Z"
    }
   },
   "outputs": [
    {
     "name": "stdout",
     "output_type": "stream",
     "text": [
      "\n",
      "...trainable of the target model...\n",
      "\n",
      "True\n",
      "True\n",
      "True\n",
      "True\n",
      "True\n",
      "True\n",
      "True\n"
     ]
    }
   ],
   "source": [
    "# check True, False each layers from the target model \n",
    "print('\\n...trainable of the target model...\\n')\n",
    "for l in target_model.layers:\n",
    "    print(l.trainable)"
   ]
  },
  {
   "cell_type": "code",
   "execution_count": 125,
   "metadata": {
    "ExecuteTime": {
     "end_time": "2019-07-15T19:56:24.736376Z",
     "start_time": "2019-07-15T19:56:24.719471Z"
    }
   },
   "outputs": [
    {
     "name": "stdout",
     "output_type": "stream",
     "text": [
      "_________________________________________________________________\n",
      "Layer (type)                 Output Shape              Param #   \n",
      "=================================================================\n",
      "input (InputLayer)           (None, 50)                0         \n",
      "_________________________________________________________________\n",
      "word_embedding (Embedding)   (None, 50, 50)            1452200   \n",
      "_________________________________________________________________\n",
      "word_dropout (Dropout)       (None, 50, 50)            0         \n",
      "_________________________________________________________________\n",
      "biLSTM (Bidirectional)       (None, 50, 200)           120800    \n",
      "_________________________________________________________________\n",
      "fc_output_layer (TimeDistrib (None, 50, 3)             603       \n",
      "=================================================================\n",
      "Total params: 1,573,603\n",
      "Trainable params: 1,573,603\n",
      "Non-trainable params: 0\n",
      "_________________________________________________________________\n"
     ]
    }
   ],
   "source": [
    "source_model.summary()"
   ]
  },
  {
   "cell_type": "code",
   "execution_count": 146,
   "metadata": {
    "ExecuteTime": {
     "end_time": "2019-07-15T20:27:06.585852Z",
     "start_time": "2019-07-15T20:27:06.546978Z"
    }
   },
   "outputs": [],
   "source": [
    "# need to recompile the model to take effect: SGD(lr=0.0001, momentum=0.9),\n",
    "#opt = RMSprop() # by defaut lr=0.001, rho=0.9, epsilon=None, decay=0.0\n",
    "#opt = SGD(lr=0.001, momentum=0.9) # by defaut lr=0.001\n",
    "# momentum: float >= 0. Parameter that accelerates SGD \n",
    "# ...in the relevant direction and dampens oscillations.\n",
    "\n",
    "#opt = SGD() # by defaut lr=0.001\n",
    "opt = Adam()   # val_acc=78.20%, F1=77.05%\n",
    "\n",
    "target_model.compile(optimizer=opt, \n",
    "              loss=\"categorical_crossentropy\", \n",
    "              metrics=[\"accuracy\"])"
   ]
  },
  {
   "cell_type": "code",
   "execution_count": 147,
   "metadata": {
    "ExecuteTime": {
     "end_time": "2019-07-15T20:27:08.887553Z",
     "start_time": "2019-07-15T20:27:08.866609Z"
    }
   },
   "outputs": [
    {
     "name": "stdout",
     "output_type": "stream",
     "text": [
      "_________________________________________________________________\n",
      "Layer (type)                 Output Shape              Param #   \n",
      "=================================================================\n",
      "input (InputLayer)           (None, 50)                0         \n",
      "_________________________________________________________________\n",
      "word_embedding (Embedding)   (None, 50, 50)            1452200   \n",
      "_________________________________________________________________\n",
      "word_dropout (Dropout)       (None, 50, 50)            0         \n",
      "_________________________________________________________________\n",
      "biLSTM (Bidirectional)       (None, 50, 200)           120800    \n",
      "_________________________________________________________________\n",
      "biLSTM_target (Bidirectional (None, 50, 200)           240800    \n",
      "_________________________________________________________________\n",
      "fc_output_target_model (Time (None, 50, 3)             603       \n",
      "=================================================================\n",
      "Total params: 1,814,403\n",
      "Trainable params: 1,814,403\n",
      "Non-trainable params: 0\n",
      "_________________________________________________________________\n"
     ]
    }
   ],
   "source": [
    "target_model.summary()"
   ]
  },
  {
   "cell_type": "code",
   "execution_count": 143,
   "metadata": {
    "ExecuteTime": {
     "end_time": "2019-07-15T20:23:49.995100Z",
     "start_time": "2019-07-15T20:22:24.611822Z"
    }
   },
   "outputs": [
    {
     "name": "stdout",
     "output_type": "stream",
     "text": [
      "Train on 5134 samples, validate on 571 samples\n",
      "Epoch 1/20\n",
      " - 8s - loss: 0.8460 - acc: 0.6092 - val_loss: 0.5736 - val_acc: 0.6852\n",
      "Epoch 2/20\n",
      " - 4s - loss: 0.5267 - acc: 0.7405 - val_loss: 0.5071 - val_acc: 0.7485\n",
      "Epoch 3/20\n",
      " - 4s - loss: 0.4821 - acc: 0.7582 - val_loss: 0.4699 - val_acc: 0.7637\n",
      "Epoch 4/20\n",
      " - 4s - loss: 0.4452 - acc: 0.7849 - val_loss: 0.4363 - val_acc: 0.7915\n",
      "Epoch 5/20\n",
      " - 4s - loss: 0.4134 - acc: 0.8010 - val_loss: 0.4082 - val_acc: 0.8040\n",
      "Epoch 6/20\n",
      " - 4s - loss: 0.3845 - acc: 0.8131 - val_loss: 0.3792 - val_acc: 0.8117\n",
      "Epoch 7/20\n",
      " - 4s - loss: 0.3476 - acc: 0.8270 - val_loss: 0.3301 - val_acc: 0.8357\n",
      "Epoch 8/20\n",
      " - 4s - loss: 0.2856 - acc: 0.8688 - val_loss: 0.2498 - val_acc: 0.9098\n",
      "Epoch 9/20\n",
      " - 4s - loss: 0.1772 - acc: 0.9511 - val_loss: 0.1506 - val_acc: 0.9538\n",
      "Epoch 10/20\n",
      " - 4s - loss: 0.0927 - acc: 0.9726 - val_loss: 0.1294 - val_acc: 0.9595\n",
      "Epoch 11/20\n",
      " - 4s - loss: 0.0700 - acc: 0.9784 - val_loss: 0.1319 - val_acc: 0.9595\n",
      "Epoch 12/20\n",
      " - 4s - loss: 0.0619 - acc: 0.9808 - val_loss: 0.1212 - val_acc: 0.9634\n",
      "Epoch 13/20\n",
      " - 4s - loss: 0.0559 - acc: 0.9824 - val_loss: 0.1251 - val_acc: 0.9621\n",
      "Epoch 14/20\n",
      " - 4s - loss: 0.0522 - acc: 0.9839 - val_loss: 0.1257 - val_acc: 0.9636\n",
      "Epoch 15/20\n",
      " - 4s - loss: 0.0501 - acc: 0.9853 - val_loss: 0.1268 - val_acc: 0.9637\n",
      "Epoch 16/20\n",
      " - 4s - loss: 0.0475 - acc: 0.9861 - val_loss: 0.1236 - val_acc: 0.9643\n",
      "Epoch 17/20\n",
      " - 4s - loss: 0.0441 - acc: 0.9871 - val_loss: 0.1192 - val_acc: 0.9660\n",
      "Epoch 18/20\n",
      " - 4s - loss: 0.0442 - acc: 0.9869 - val_loss: 0.1334 - val_acc: 0.9631\n",
      "Epoch 19/20\n",
      " - 4s - loss: 0.0419 - acc: 0.9877 - val_loss: 0.1216 - val_acc: 0.9661\n",
      "Epoch 20/20\n",
      " - 4s - loss: 0.0401 - acc: 0.9883 - val_loss: 0.1334 - val_acc: 0.9633\n",
      "\n",
      ">>> Training time for the target model: 85.37729549407959 seconds\n"
     ]
    }
   ],
   "source": [
    "# time execution\n",
    "start_time_target = time.time()   # now()\n",
    "\n",
    "# re-train the model on the new data for a few epoch\n",
    "histo_new = target_model.fit(X_train_new, np.array(y_train_new), \n",
    "                  batch_size=batch_size, \n",
    "                  epochs=nb_epoch_target, \n",
    "                  # callbacks=[checkpoint],\n",
    "                  validation_split=val_split, verbose=2) #1\n",
    "\n",
    "# time execution\n",
    "stop_time_target = time.time() - start_time_target\n",
    "print('\\n>>> Training time for the target model: %s seconds' % stop_time_target)"
   ]
  },
  {
   "cell_type": "code",
   "execution_count": 50,
   "metadata": {
    "ExecuteTime": {
     "end_time": "2019-07-15T19:25:00.543466Z",
     "start_time": "2019-07-15T19:25:00.378908Z"
    }
   },
   "outputs": [
    {
     "name": "stdout",
     "output_type": "stream",
     "text": [
      "\n",
      ">>> Saved model to disk\n",
      "\n",
      "...saved to file path: ./models/weights_lstm_ko_kaist_tl_to_ko_gsd.hdf5\n",
      "\n",
      "...done\n"
     ]
    }
   ],
   "source": [
    "# serialize weights to HDF5\n",
    "print(\"\\n>>> Saved model to disk\")\n",
    "target_model.save_weights(path_model_target)\n",
    "print('\\n...saved to file path: ' + path_model_target)\n",
    "print('\\n...done')"
   ]
  },
  {
   "cell_type": "markdown",
   "metadata": {},
   "source": [
    "## Evaluate the target model "
   ]
  },
  {
   "cell_type": "code",
   "execution_count": 51,
   "metadata": {
    "ExecuteTime": {
     "end_time": "2019-07-15T19:25:08.686258Z",
     "start_time": "2019-07-15T19:25:08.682268Z"
    }
   },
   "outputs": [
    {
     "name": "stdout",
     "output_type": "stream",
     "text": [
      "\n",
      ">>> Best value accuracy of the taget model: 96.51%\n"
     ]
    }
   ],
   "source": [
    "best_val_acc_target = max(histo_new.history['val_acc'])\n",
    "print(\"\\n>>> Best value accuracy of the taget model: {:.2%}\".format(best_val_acc_target))"
   ]
  },
  {
   "cell_type": "code",
   "execution_count": 52,
   "metadata": {
    "ExecuteTime": {
     "end_time": "2019-07-15T19:25:24.035271Z",
     "start_time": "2019-07-15T19:25:23.818823Z"
    }
   },
   "outputs": [
    {
     "data": {
      "image/png": "[encoded data removed]",
      "text/plain": [
       "<Figure size 864x864 with 1 Axes>"
      ]
     },
     "metadata": {
      "needs_background": "light"
     },
     "output_type": "display_data"
    }
   ],
   "source": [
    "# visualize with graphics\n",
    "hist = pd.DataFrame(histo_new.history)\n",
    "plt.figure(figsize=(12,12))\n",
    "plt.plot(hist[\"acc\"])\n",
    "plt.plot(hist[\"val_acc\"])\n",
    "plt.plot(hist[\"loss\"])\n",
    "plt.plot(hist[\"val_loss\"])\n",
    "plt.xlabel(\"epochs\")\n",
    "plt.ylabel(\"accuracy\")\n",
    "plt.title(\"Accuracy and Loss about Training the Target Model\")\n",
    "# plt.show()\n",
    "plt.legend()\n",
    "plt.savefig('./outputs/Graphic_Val_accuracy_Training_Model_Target.png')      \n"
   ]
  },
  {
   "cell_type": "code",
   "execution_count": 53,
   "metadata": {
    "ExecuteTime": {
     "end_time": "2019-07-15T19:25:28.339917Z",
     "start_time": "2019-07-15T19:25:28.123457Z"
    }
   },
   "outputs": [
    {
     "data": {
      "image/png": "[encoded data removed]",
      "text/plain": [
       "<Figure size 864x864 with 1 Axes>"
      ]
     },
     "metadata": {
      "needs_background": "light"
     },
     "output_type": "display_data"
    }
   ],
   "source": [
    "# histogram between transfer courbe and non-transfer curve\n",
    "hist1 = pd.DataFrame(history.history)    # non-transfer\n",
    "hist2 = pd.DataFrame(histo_new.history)     # with transfer\n",
    "plt.figure(figsize=(12,12))\n",
    "plt.plot(hist1[\"val_acc\"], label='val_acc_source')\n",
    "plt.plot(hist2[\"val_acc\"], label='val_acc_target')\n",
    "# plt.show()\n",
    "plt.legend()\n",
    "plt.xlabel('epochs')\n",
    "plt.ylabel('validation accuracy')\n",
    "plt.title('Graphic_Val_accuracy_Training_Model_Source_versus_Target')\n",
    "plt.savefig('./outputs/Graphic_Val_accuracy_Training_Model_Source_versus_Target.png')    "
   ]
  },
  {
   "cell_type": "raw",
   "metadata": {},
   "source": [
    "# Output Prediction "
   ]
  },
  {
   "cell_type": "code",
   "execution_count": 54,
   "metadata": {
    "ExecuteTime": {
     "end_time": "2019-07-15T19:25:52.508913Z",
     "start_time": "2019-07-15T19:25:50.682636Z"
    }
   },
   "outputs": [
    {
     "name": "stdout",
     "output_type": "stream",
     "text": [
      "\n",
      ">>> Make prediction of new classes\n"
     ]
    }
   ],
   "source": [
    "print('\\n>>> Make prediction of new classes')\n",
    "test_preds_new = target_model.predict(X_test_new, verbose=2) #1\n",
    "\n",
    "idx2tag_new = {i: w for w, i in tag2idx_new.items()}\n",
    "\n",
    "# function to convert the prediction to label BIO\n",
    "def pred2label_new(pred):\n",
    "    out = []\n",
    "    for pred_i in pred:\n",
    "        out_i = []\n",
    "        for p in pred_i:\n",
    "            p_i = np.argmax(p)\n",
    "            out_i.append(idx2tag_new[p_i].replace(\"PAD\", \"O\"))\n",
    "#            out_i.append(idx2tag_new[p_i].replace(\"PAD\", \" \")) # by Tan, lundi 08/04/2019\n",
    "        out.append(out_i)\n",
    "    return out\n",
    "\n",
    "# to convert prediction and test labels\n",
    "pred_labels_new = pred2label_new(test_preds_new)\n",
    "test_labels_new = pred2label_new(y_test_new)"
   ]
  },
  {
   "cell_type": "raw",
   "metadata": {},
   "source": [
    "# Evalute the predictions from the base source model"
   ]
  },
  {
   "cell_type": "code",
   "execution_count": 55,
   "metadata": {
    "ExecuteTime": {
     "end_time": "2019-07-15T19:25:57.856067Z",
     "start_time": "2019-07-15T19:25:57.826117Z"
    }
   },
   "outputs": [
    {
     "name": "stdout",
     "output_type": "stream",
     "text": [
      "\n",
      ">>> F1-score: 96.34%\n"
     ]
    }
   ],
   "source": [
    "print(\"\\n>>> F1-score: {:.2%}\".format(flat_f1_score(test_labels_new, pred_labels_new, average='weighted')))"
   ]
  },
  {
   "cell_type": "code",
   "execution_count": 56,
   "metadata": {
    "ExecuteTime": {
     "end_time": "2019-07-15T19:25:58.994461Z",
     "start_time": "2019-07-15T19:25:58.938589Z"
    }
   },
   "outputs": [
    {
     "name": "stdout",
     "output_type": "stream",
     "text": [
      "\n",
      ">>> Classification report:\n",
      "\n",
      "              precision    recall  f1-score   support\n",
      "\n",
      "           B       0.90      0.90      0.90      4658\n",
      "           I       0.94      0.96      0.95      6832\n",
      "           O       0.99      0.98      0.98     20210\n",
      "\n",
      "   micro avg       0.96      0.96      0.96     31700\n",
      "   macro avg       0.94      0.95      0.94     31700\n",
      "weighted avg       0.96      0.96      0.96     31700\n",
      "\n"
     ]
    }
   ],
   "source": [
    "print('\\n>>> Classification report:\\n')\n",
    "print(flat_classification_report(test_labels_new, pred_labels_new))"
   ]
  },
  {
   "cell_type": "markdown",
   "metadata": {},
   "source": [
    "# Step 3: Prediction from the text file (testset)"
   ]
  },
  {
   "cell_type": "code",
   "execution_count": 57,
   "metadata": {
    "ExecuteTime": {
     "end_time": "2019-07-15T19:26:08.547357Z",
     "start_time": "2019-07-15T19:26:08.538381Z"
    }
   },
   "outputs": [],
   "source": [
    "# function readPredictSave(textFile) allows to predict the test file to path_output_col_prediction_target\n",
    "def readPredictSave(textFile):\n",
    "    # 1. Loading raw data from a text file\n",
    "    rawdata = pd.read_csv(textFile, delimiter='\\t',\n",
    "                   header=None, \n",
    "                   encoding='utf-8', \n",
    "                   quoting=3  # means QUOTE_NONE\n",
    "                   )\n",
    "    \n",
    "    rawdata = rawdata.rename(columns={0:'Sentence'}) #.drop_duplicates()\n",
    "\n",
    "    # 2. Process\n",
    "    words_rawdata = list(rawdata[\"Sentence\"].values)\n",
    "    \n",
    "    compteur = 0 # compter les phrases\n",
    "    # read from list of sentences\n",
    "    for s in words_rawdata:\n",
    "        resultX = []\n",
    "        tokenized_rawdata = s.replace(\" \", \"\")   \n",
    "        temp = ''\n",
    "        compteur += 1\n",
    "        ### CACH 2\n",
    "        # source: https://www.depends-on-the-definition.com/sequence-tagging-lstm-crf/\n",
    "        x_test_sent = pad_sequences(sequences=[[word2idx_new.get(w, 0) for w in tokenized_rawdata]],\n",
    "                                    padding=\"post\", value=0, maxlen=max_len)\n",
    "        \n",
    "        \n",
    "        print('\\n>>> Make prediction of new classes')\n",
    "        print('no_sent: ' + str(compteur))\n",
    "        p = target_model.predict(np.array([x_test_sent[0]]))\n",
    "        p = np.argmax(p, axis=-1)\n",
    "        print(\"{:15}||{}\".format(\"Word\", \"Prediction\"))\n",
    "        print(30 * \"=\")\n",
    "        for w, pred in zip(tokenized_rawdata, p[0]):\n",
    "            temp = \"Sentence: \" + str(compteur) + \"\\t\" + w + \"\\t\"+ tags[pred] #+ \"\\n\"\n",
    "            resultX.append(temp + \"\\n\")\n",
    "            print(temp)\n",
    "\n",
    "        f_tempo.write(''.join(tok for tok in resultX) + \"\\n\")"
   ]
  },
  {
   "cell_type": "code",
   "execution_count": 75,
   "metadata": {
    "ExecuteTime": {
     "end_time": "2019-07-15T19:38:31.628591Z",
     "start_time": "2019-07-15T19:38:31.625601Z"
    }
   },
   "outputs": [],
   "source": [
    "path_testset = config['path_testset'] \n",
    "path_output_col_prediction_target = config['path_output_col_prediction_target'] "
   ]
  },
  {
   "cell_type": "code",
   "execution_count": 76,
   "metadata": {
    "ExecuteTime": {
     "end_time": "2019-07-15T19:38:34.286167Z",
     "start_time": "2019-07-15T19:38:33.089371Z"
    }
   },
   "outputs": [
    {
     "name": "stdout",
     "output_type": "stream",
     "text": [
      "\n",
      ">>> Predicting from the test file...\n",
      "\n",
      ">>> Make prediction of new classes\n",
      "no_sent: 1\n",
      "Word           ||Prediction\n",
      "==============================\n",
      "Sentence: 1\t양\tB\n",
      "Sentence: 1\t승\tI\n",
      "Sentence: 1\t태\tI\n",
      "Sentence: 1\t사\tI\n",
      "Sentence: 1\t법\tB\n",
      "Sentence: 1\t부\tI\n",
      "Sentence: 1\t법\tI\n",
      "Sentence: 1\t원\tB\n",
      "Sentence: 1\t행\tI\n",
      "Sentence: 1\t정\tI\n",
      "Sentence: 1\t처\tB\n",
      "Sentence: 1\t가\tI\n",
      "Sentence: 1\t박\tI\n",
      "Sentence: 1\t근\tI\n",
      "Sentence: 1\t혜\tB\n",
      "Sentence: 1\t전\tI\n",
      "Sentence: 1\t대\tB\n",
      "Sentence: 1\t통\tI\n",
      "Sentence: 1\t령\tB\n",
      "Sentence: 1\t의\tI\n",
      "Sentence: 1\t세\tI\n",
      "Sentence: 1\t월\tO\n",
      "Sentence: 1\t호\tI\n",
      "Sentence: 1\t7\tI\n",
      "Sentence: 1\t시\tI\n",
      "Sentence: 1\t간\tB\n",
      "Sentence: 1\t행\tI\n",
      "Sentence: 1\t적\tB\n",
      "Sentence: 1\t관\tI\n",
      "Sentence: 1\t련\tB\n",
      "Sentence: 1\t명\tI\n",
      "Sentence: 1\t예\tB\n",
      "Sentence: 1\t훼\tI\n",
      "Sentence: 1\t손\tI\n",
      "Sentence: 1\t사\tB\n",
      "Sentence: 1\t건\tI\n",
      "Sentence: 1\t형\tI\n",
      "Sentence: 1\t사\tI\n",
      "Sentence: 1\t재\tI\n",
      "Sentence: 1\t판\tB\n",
      "Sentence: 1\t부\tI\n",
      "Sentence: 1\t판\tO\n",
      "Sentence: 1\t결\tB\n",
      "Sentence: 1\t내\tI\n",
      "Sentence: 1\t용\tI\n",
      "Sentence: 1\t을\tO\n",
      "Sentence: 1\t사\tO\n",
      "Sentence: 1\t실\tB\n",
      "Sentence: 1\t상\tI\n",
      "Sentence: 1\t미\tO\n",
      "\n",
      ">>> Make prediction of new classes\n",
      "no_sent: 2\n",
      "Word           ||Prediction\n",
      "==============================\n",
      "Sentence: 2\t\"\tB\n",
      "Sentence: 2\t이\tI\n",
      "Sentence: 2\t재\tI\n",
      "Sentence: 2\t명\tI\n",
      "Sentence: 2\t이\tI\n",
      "Sentence: 2\t대\tI\n",
      "Sentence: 2\t로\tI\n",
      "Sentence: 2\t괜\tI\n",
      "Sentence: 2\t찮\tI\n",
      "Sentence: 2\t은\tB\n",
      "Sentence: 2\t걸\tI\n",
      "Sentence: 2\tㄹ\tB\n",
      "Sentence: 2\t까\tI\n",
      "Sentence: 2\t요\tI\n",
      "Sentence: 2\t오\tI\n",
      "Sentence: 2\t늘\tI\n",
      "Sentence: 2\t도\tI\n",
      "Sentence: 2\t국\tI\n",
      "Sentence: 2\t민\tI\n",
      "Sentence: 2\t청\tI\n",
      "Sentence: 2\t원\tO\n",
      "Sentence: 2\t달\tB\n",
      "Sentence: 2\t리\tI\n",
      "Sentence: 2\tㅂ\tI\n",
      "Sentence: 2\t니\tI\n",
      "Sentence: 2\t다\tI\n",
      "Sentence: 2\t불\tB\n",
      "Sentence: 2\t법\tI\n",
      "Sentence: 2\t폭\tI\n",
      "Sentence: 2\t력\tB\n",
      "Sentence: 2\t조\tI\n",
      "Sentence: 2\t직\tO\n",
      "Sentence: 2\t코\tO\n",
      "Sentence: 2\t마\tB\n",
      "Sentence: 2\t트\tI\n",
      "Sentence: 2\t레\tI\n",
      "Sentence: 2\t이\tI\n",
      "Sentence: 2\t드\tB\n",
      "Sentence: 2\t와\tI\n",
      "Sentence: 2\t연\tB\n",
      "Sentence: 2\t루\tI\n",
      "Sentence: 2\t되\tB\n",
      "Sentence: 2\tㄴ\tI\n",
      "Sentence: 2\t성\tI\n",
      "Sentence: 2\t남\tO\n",
      "Sentence: 2\t시\tB\n",
      "Sentence: 2\t장\tI\n",
      "Sentence: 2\t은\tI\n",
      "Sentence: 2\t수\tI\n",
      "Sentence: 2\t미\tO\n",
      "\n",
      ">>> Make prediction of new classes\n",
      "no_sent: 3\n",
      "Word           ||Prediction\n",
      "==============================\n",
      "Sentence: 3\tG\tB\n",
      "Sentence: 3\to\tI\n",
      "Sentence: 3\to\tI\n",
      "Sentence: 3\td\tI\n",
      "Sentence: 3\tm\tI\n",
      "Sentence: 3\to\tB\n",
      "Sentence: 3\tr\tI\n",
      "Sentence: 3\tn\tI\n",
      "Sentence: 3\ti\tB\n",
      "Sentence: 3\tn\tI\n",
      "Sentence: 3\tg\tB\n",
      "Sentence: 3\tT\tI\n",
      "Sentence: 3\tw\tI\n",
      "Sentence: 3\ti\tB\n",
      "Sentence: 3\tt\tI\n",
      "Sentence: 3\tt\tI\n",
      "Sentence: 3\te\tB\n",
      "Sentence: 3\tr\tI\n",
      "Sentence: 3\tw\tI\n",
      "Sentence: 3\to\tB\n",
      "Sentence: 3\tr\tI\n",
      "Sentence: 3\tl\tI\n",
      "Sentence: 3\td\tI\n",
      "Sentence: 3\tJ\tI\n",
      "Sentence: 3\tu\tI\n",
      "Sentence: 3\ts\tI\n",
      "Sentence: 3\tt\tI\n",
      "Sentence: 3\tf\tI\n",
      "Sentence: 3\ti\tB\n",
      "Sentence: 3\tv\tI\n",
      "Sentence: 3\te\tB\n",
      "Sentence: 3\tm\tI\n",
      "Sentence: 3\ti\tB\n",
      "Sentence: 3\tn\tI\n",
      "Sentence: 3\tu\tB\n",
      "Sentence: 3\tt\tI\n",
      "Sentence: 3\te\tB\n",
      "Sentence: 3\ts\tI\n",
      "Sentence: 3\t\tI\n",
      "\n",
      ">>> Make prediction of new classes\n",
      "no_sent: 4\n",
      "Word           ||Prediction\n",
      "==============================\n",
      "Sentence: 4\t이\tI\n",
      "Sentence: 4\t상\tI\n",
      "Sentence: 4\t하\tI\n",
      "Sentence: 4\t게\tI\n",
      "Sentence: 4\t얘\tB\n",
      "Sentence: 4\t기\tI\n",
      "Sentence: 4\t하\tI\n",
      "Sentence: 4\t면\tB\n",
      "Sentence: 4\t나\tI\n",
      "Sentence: 4\t바\tI\n",
      "Sentence: 4\t로\tI\n",
      "Sentence: 4\t끊\tB\n",
      "Sentence: 4\t어\tI\n",
      "Sentence: 4\t버\tI\n",
      "Sentence: 4\t리\tB\n",
      "Sentence: 4\tㄹ\tI\n",
      "Sentence: 4\t거\tB\n",
      "Sentence: 4\t야\tI\n",
      "Sentence: 4\t잘\tO\n",
      "Sentence: 4\t안\tI\n",
      "Sentence: 4\t들\tI\n",
      "Sentence: 4\t리\tI\n",
      "Sentence: 4\tㅂ\tI\n",
      "Sentence: 4\t니\tI\n",
      "Sentence: 4\t다\tI\n",
      "Sentence: 4\t예\tB\n",
      "Sentence: 4\t의\tI\n",
      "Sentence: 4\t가\tO\n",
      "Sentence: 4\t없\tB\n",
      "Sentence: 4\t어\tI\n",
      "Sentence: 4\t예\tB\n",
      "Sentence: 4\t의\tI\n",
      "Sentence: 4\t가\tB\n",
      "Sentence: 4\t안\tI\n",
      "Sentence: 4\t되\tI\n",
      "Sentence: 4\t어\tI\n",
      "Sentence: 4\t예\tB\n",
      "Sentence: 4\t의\tI\n",
      "Sentence: 4\t가\tO\n",
      "Sentence: 4\t없\tB\n",
      "Sentence: 4\t어\tI\n",
      "Sentence: 4\t예\tB\n",
      "Sentence: 4\t의\tI\n",
      "Sentence: 4\t가\tB\n",
      "\n",
      ">>> Make prediction of new classes\n",
      "no_sent: 5\n",
      "Word           ||Prediction\n",
      "==============================\n",
      "Sentence: 5\t주\tB\n",
      "Sentence: 5\t진\tI\n",
      "Sentence: 5\t우\tI\n",
      "Sentence: 5\t가\tI\n",
      "Sentence: 5\t이\tI\n",
      "Sentence: 5\t랬\tI\n",
      "Sentence: 5\t어\tI\n",
      "Sentence: 5\t었\tI\n",
      "Sentence: 5\t단\tI\n",
      "Sentence: 5\t말\tB\n",
      "Sentence: 5\t이\tI\n",
      "Sentence: 5\t지\tB\n",
      "Sentence: 5\t하\tI\n",
      "Sentence: 5\t나\tI\n",
      "Sentence: 5\t쁘\tI\n",
      "Sentence: 5\tㄴ\tI\n",
      "Sentence: 5\t놈\tI\n",
      "Sentence: 5\t이\tI\n",
      "Sentence: 5\t네\tI\n",
      "Sentence: 5\t‼\tI\n",
      "Sentence: 5\t‼\tI\n",
      "\n",
      ">>> Make prediction of new classes\n",
      "no_sent: 6\n",
      "Word           ||Prediction\n",
      "==============================\n",
      "Sentence: 6\t김\tI\n",
      "Sentence: 6\t종\tB\n",
      "Sentence: 6\t필\tI\n",
      "Sentence: 6\t문\tB\n",
      "Sentence: 6\t재\tI\n",
      "Sentence: 6\t인\tI\n",
      "Sentence: 6\t이\tI\n",
      "Sentence: 6\t대\tB\n",
      "Sentence: 6\t통\tI\n",
      "Sentence: 6\t령\tB\n",
      "Sentence: 6\t되\tI\n",
      "Sentence: 6\t면\tB\n",
      "Sentence: 6\t김\tI\n",
      "Sentence: 6\t정\tI\n",
      "Sentence: 6\t은\tB\n",
      "Sentence: 6\t이\tI\n",
      "Sentence: 6\t만\tI\n",
      "Sentence: 6\t나\tI\n",
      "Sentence: 6\t러\tB\n",
      "Sentence: 6\t갈\tI\n",
      "Sentence: 6\tㄴ\tB\n",
      "Sentence: 6\t다\tI\n",
      "Sentence: 6\t니\tI\n",
      "Sentence: 6\t빌\tO\n",
      "Sentence: 6\t어\tB\n",
      "Sentence: 6\t먹\tI\n",
      "Sentence: 6\t을\tB\n",
      "Sentence: 6\t자\tI\n",
      "Sentence: 6\t식\tB\n",
      "Sentence: 6\t육\tI\n",
      "Sentence: 6\t성\tI\n",
      "Sentence: 6\t인\tI\n",
      "Sentence: 6\t터\tI\n",
      "Sentence: 6\t뷰\tI\n",
      "Sentence: 6\t공\tI\n",
      "Sentence: 6\t개\tI\n",
      "Sentence: 6\t용\tB\n",
      "Sentence: 6\t서\tI\n",
      "Sentence: 6\t이\tI\n",
      "Sentence: 6\t라\tI\n",
      "Sentence: 6\t는\tB\n",
      "Sentence: 6\t것\tI\n",
      "Sentence: 6\t은\tI\n",
      "Sentence: 6\t말\tI\n",
      "Sentence: 6\t이\tI\n",
      "Sentence: 6\t지\tI\n",
      "Sentence: 6\t요\tI\n",
      "Sentence: 6\t사\tI\n",
      "Sentence: 6\t람\tI\n",
      "Sentence: 6\t에\tO\n",
      "\n",
      ">>> Make prediction of new classes\n",
      "no_sent: 7\n",
      "Word           ||Prediction\n",
      "==============================\n",
      "Sentence: 7\t김\tB\n",
      "Sentence: 7\t종\tI\n",
      "Sentence: 7\t필\tB\n",
      "Sentence: 7\t훈\tI\n",
      "Sentence: 7\t장\tB\n",
      "Sentence: 7\t추\tB\n",
      "Sentence: 7\t서\tI\n",
      "Sentence: 7\t반\tB\n",
      "Sentence: 7\t대\tI\n",
      "Sentence: 7\t국\tI\n",
      "Sentence: 7\t민\tI\n",
      "Sentence: 7\t청\tI\n",
      "Sentence: 7\t원\tI\n",
      "Sentence: 7\t사\tI\n",
      "Sentence: 7\t람\tB\n",
      "Sentence: 7\t이\tI\n",
      "Sentence: 7\t죽\tI\n",
      "Sentence: 7\t으\tI\n",
      "Sentence: 7\t면\tI\n",
      "Sentence: 7\t애\tB\n",
      "Sentence: 7\t도\tI\n",
      "Sentence: 7\t하\tI\n",
      "Sentence: 7\t어\tI\n",
      "Sentence: 7\t야\tI\n",
      "Sentence: 7\t맞\tI\n",
      "Sentence: 7\t습\tI\n",
      "Sentence: 7\t니\tI\n",
      "Sentence: 7\t다\tB\n",
      "Sentence: 7\t그\tI\n",
      "Sentence: 7\t러\tI\n",
      "Sentence: 7\t나\tI\n",
      "Sentence: 7\t박\tI\n",
      "Sentence: 7\t정\tI\n",
      "Sentence: 7\t희\tB\n",
      "Sentence: 7\t와\tI\n",
      "Sentence: 7\t함\tB\n",
      "Sentence: 7\t께\tI\n",
      "Sentence: 7\t오\tI\n",
      "Sentence: 7\t늘\tI\n",
      "Sentence: 7\t날\tI\n",
      "Sentence: 7\t일\tB\n",
      "Sentence: 7\t어\tI\n",
      "Sentence: 7\t나\tI\n",
      "Sentence: 7\tㄴ\tB\n",
      "Sentence: 7\t한\tI\n",
      "Sentence: 7\t국\tI\n",
      "Sentence: 7\t사\tI\n",
      "Sentence: 7\t회\tI\n",
      "Sentence: 7\t적\tI\n",
      "Sentence: 7\t폐\tO\n",
      "\n",
      ">>> Make prediction of new classes\n",
      "no_sent: 8\n",
      "Word           ||Prediction\n",
      "==============================\n",
      "Sentence: 8\t김\tI\n",
      "Sentence: 8\t대\tB\n",
      "Sentence: 8\t중\tI\n",
      "Sentence: 8\t대\tI\n",
      "Sentence: 8\t통\tI\n",
      "Sentence: 8\t령\tI\n",
      "Sentence: 8\t의\tB\n",
      "Sentence: 8\t청\tI\n",
      "Sentence: 8\t렴\tI\n",
      "Sentence: 8\t도\tI\n",
      "Sentence: 8\tM\tI\n",
      "Sentence: 8\tB\tI\n",
      "Sentence: 8\t국\tB\n",
      "Sentence: 8\t정\tI\n",
      "Sentence: 8\t원\tI\n",
      "Sentence: 8\tD\tI\n",
      "Sentence: 8\tJ\tI\n",
      "Sentence: 8\t비\tI\n",
      "Sentence: 8\t자\tB\n",
      "Sentence: 8\t금\tI\n",
      "Sentence: 8\t캐\tI\n",
      "Sentence: 8\t려\tI\n",
      "Sentence: 8\t고\tI\n",
      "Sentence: 8\t美\tI\n",
      "Sentence: 8\t국\tB\n",
      "Sentence: 8\t세\tI\n",
      "Sentence: 8\t청\tI\n",
      "Sentence: 8\t직\tI\n",
      "Sentence: 8\t원\tI\n",
      "Sentence: 8\t에\tI\n",
      "Sentence: 8\t뇌\tI\n",
      "Sentence: 8\t물\tI\n",
      "Sentence: 8\t저\tI\n",
      "Sentence: 8\t리\tB\n",
      "Sentence: 8\t털\tI\n",
      "Sentence: 8\t었\tI\n",
      "Sentence: 8\t는\tB\n",
      "Sentence: 8\t데\tI\n",
      "Sentence: 8\t아\tB\n",
      "Sentence: 8\t무\tI\n",
      "Sentence: 8\t것\tI\n",
      "Sentence: 8\t도\tI\n",
      "Sentence: 8\t안\tI\n",
      "Sentence: 8\t나\tI\n",
      "Sentence: 8\t오\tI\n",
      "Sentence: 8\t다\tI\n",
      "Sentence: 8\t니\tO\n",
      "Sentence: 8\t김\tB\n",
      "Sentence: 8\t대\tI\n",
      "Sentence: 8\t중\tO\n",
      "\n",
      ">>> Make prediction of new classes\n",
      "no_sent: 9\n",
      "Word           ||Prediction\n",
      "==============================\n",
      "Sentence: 9\t인\tB\n",
      "Sentence: 9\t을\tI\n",
      "Sentence: 9\t가\tI\n",
      "Sentence: 9\t지\tB\n",
      "Sentence: 9\tㄴ\tI\n",
      "Sentence: 9\t사\tI\n",
      "Sentence: 9\t람\tB\n",
      "Sentence: 9\t만\tI\n",
      "Sentence: 9\t이\tI\n",
      "Sentence: 9\t통\tI\n",
      "Sentence: 9\t치\tB\n",
      "Sentence: 9\t하\tI\n",
      "Sentence: 9\t는\tI\n",
      "Sentence: 9\t위\tB\n",
      "Sentence: 9\t치\tI\n",
      "Sentence: 9\t에\tI\n",
      "Sentence: 9\t있\tI\n",
      "Sentence: 9\t어\tI\n",
      "Sentence: 9\t야\tI\n",
      "Sentence: 9\t하\tB\n",
      "Sentence: 9\t며\tI\n",
      "Sentence: 9\t인\tI\n",
      "Sentence: 9\t을\tB\n",
      "Sentence: 9\t갖\tI\n",
      "Sentence: 9\t추\tI\n",
      "Sentence: 9\t지\tB\n",
      "Sentence: 9\t못\tI\n",
      "Sentence: 9\t하\tI\n",
      "Sentence: 9\tㄴ\tI\n",
      "Sentence: 9\t사\tB\n",
      "Sentence: 9\t람\tI\n",
      "Sentence: 9\t이\tI\n",
      "Sentence: 9\t통\tI\n",
      "Sentence: 9\t치\tB\n",
      "Sentence: 9\t하\tI\n",
      "Sentence: 9\t는\tI\n",
      "Sentence: 9\t위\tB\n",
      "Sentence: 9\t치\tI\n",
      "Sentence: 9\t에\tI\n",
      "Sentence: 9\t있\tI\n",
      "Sentence: 9\t으\tI\n",
      "Sentence: 9\t면\tB\n",
      "Sentence: 9\t그\tI\n",
      "Sentence: 9\t좋\tI\n",
      "Sentence: 9\t지\tB\n",
      "Sentence: 9\t못\tI\n",
      "Sentence: 9\t하\tO\n",
      "Sentence: 9\tㄴ\tO\n",
      "Sentence: 9\t행\tB\n",
      "Sentence: 9\t위\tI\n",
      "\n",
      ">>> Make prediction of new classes\n",
      "no_sent: 10\n",
      "Word           ||Prediction\n",
      "==============================\n",
      "Sentence: 10\t문\tI\n",
      "Sentence: 10\t파\tI\n",
      "Sentence: 10\t초\tI\n",
      "Sentence: 10\t짜\tI\n",
      "Sentence: 10\t들\tO\n",
      "Sentence: 10\t은\tI\n",
      "Sentence: 10\t이\tI\n",
      "Sentence: 10\t것\tI\n",
      "Sentence: 10\t만\tI\n",
      "Sentence: 10\t기\tO\n",
      "Sentence: 10\t억\tB\n",
      "Sentence: 10\t하\tI\n",
      "Sentence: 10\t시\tI\n",
      "Sentence: 10\t면\tB\n",
      "Sentence: 10\t되\tI\n",
      "Sentence: 10\tㅂ\tI\n",
      "Sentence: 10\t니\tI\n",
      "Sentence: 10\t다\tI\n",
      "Sentence: 10\t1\tB\n",
      "Sentence: 10\t5\tI\n",
      "Sentence: 10\t년\tB\n",
      "Sentence: 10\t전\tI\n",
      "Sentence: 10\t과\tI\n",
      "Sentence: 10\t달\tI\n",
      "Sentence: 10\t라\tI\n",
      "Sentence: 10\t지\tI\n",
      "Sentence: 10\tㄴ\tI\n",
      "Sentence: 10\t건\tI\n",
      "Sentence: 10\t문\tI\n",
      "Sentence: 10\t재\tB\n",
      "Sentence: 10\t인\tI\n",
      "Sentence: 10\t과\tI\n",
      "Sentence: 10\t문\tI\n",
      "Sentence: 10\t파\tI\n",
      "Sentence: 10\t이\tI\n",
      "Sentence: 10\tㅂ\tI\n",
      "Sentence: 10\t니\tI\n"
     ]
    },
    {
     "name": "stdout",
     "output_type": "stream",
     "text": [
      "Sentence: 10\t다\tI\n",
      "Sentence: 10\t업\tI\n",
      "Sentence: 10\t그\tB\n",
      "Sentence: 10\t레\tI\n",
      "Sentence: 10\t이\tI\n",
      "Sentence: 10\t드\tI\n",
      "Sentence: 10\t되\tB\n",
      "Sentence: 10\tㄴ\tI\n",
      "Sentence: 10\t노\tB\n",
      "Sentence: 10\t무\tI\n",
      "Sentence: 10\t현\tI\n",
      "Sentence: 10\t이\tI\n",
      "Sentence: 10\t문\tO\n",
      "\n",
      ">>> Make prediction of new classes\n",
      "no_sent: 11\n",
      "Word           ||Prediction\n",
      "==============================\n",
      "Sentence: 11\t소\tB\n",
      "Sentence: 11\t방\tB\n",
      "Sentence: 11\t차\tI\n",
      "Sentence: 11\t\tI\n",
      "Sentence: 11\t에\tI\n",
      "Sentence: 11\t길\tB\n",
      "Sentence: 11\t안\tI\n",
      "Sentence: 11\t비\tI\n",
      "Sentence: 11\t키\tI\n",
      "Sentence: 11\t어\tI\n",
      "Sentence: 11\t주\tI\n",
      "Sentence: 11\t면\tB\n",
      "Sentence: 11\t과\tI\n",
      "Sentence: 11\t태\tB\n",
      "Sentence: 11\t료\tI\n",
      "Sentence: 11\t왕\tB\n",
      "Sentence: 11\t창\tI\n",
      "Sentence: 11\t물\tI\n",
      "Sentence: 11\t게\tI\n",
      "Sentence: 11\t되\tB\n",
      "Sentence: 11\tㅂ\tI\n",
      "Sentence: 11\t니\tI\n",
      "Sentence: 11\t다\tI\n",
      "Sentence: 11\t5\tB\n",
      "Sentence: 11\t8\tI\n",
      "Sentence: 11\t만\tI\n",
      "Sentence: 11\t원\tI\n",
      "Sentence: 11\t1\tB\n",
      "Sentence: 11\t0\tI\n",
      "Sentence: 11\t0\tI\n",
      "Sentence: 11\t만\tI\n",
      "Sentence: 11\t원\tI\n",
      "\n",
      "...done\n",
      "\n",
      "...saved to file path: ./outputs/output_prediction_format_col.txt\n"
     ]
    }
   ],
   "source": [
    "f_tempo = open(path_output_col_prediction_target, 'w', encoding=\"utf-8\")\n",
    "\n",
    "# call the function readPredictSave(textFile)\n",
    "print('\\n>>> Predicting from the test file...')\n",
    "readPredictSave(path_testset)\n",
    "print('\\n...done') \n",
    "print('\\n...saved to file path: ' + path_output_col_prediction_target)\n",
    "\n",
    "f_tempo.close()"
   ]
  },
  {
   "cell_type": "raw",
   "metadata": {
    "ExecuteTime": {
     "end_time": "2019-07-15T20:13:53.865591Z",
     "start_time": "2019-07-15T20:13:53.861601Z"
    }
   },
   "source": [
    "# call the python file for converting the column format into the row format\n",
    "# Command: python utils/convert_data_predicted_WS_by_sentences.py"
   ]
  },
  {
   "cell_type": "code",
   "execution_count": 73,
   "metadata": {
    "ExecuteTime": {
     "end_time": "2019-07-15T19:38:22.307767Z",
     "start_time": "2019-07-15T19:38:22.304773Z"
    }
   },
   "outputs": [],
   "source": [
    "path_output_col_prediction_target = config['path_output_col_prediction_target']\n",
    "# 1 token (set of no_sentence, token, bio_tag) per line: \n",
    "# i.e. Sentence: 11    소       B\n",
    "\n",
    "path_output_row_prediction_target = config['path_output_row_prediction_target']\n",
    "# 1 sentence (set of lemmas) per line"
   ]
  },
  {
   "cell_type": "code",
   "execution_count": 79,
   "metadata": {
    "ExecuteTime": {
     "end_time": "2019-07-15T19:41:12.294536Z",
     "start_time": "2019-07-15T19:41:12.288569Z"
    }
   },
   "outputs": [],
   "source": [
    "# class SentenceGetter allows to deal with sentences from raw data\n",
    "class SentenceGetter(object):\n",
    "    \n",
    "    def __init__(self, data):\n",
    "        self.n_sent = 1\n",
    "        self.data = data\n",
    "        self.empty = False\n",
    "        \n",
    "        # with 2 columns: Word - Tag\n",
    "        agg_func = lambda s: [(w, t) for w, t in zip(s[\"Word\"].values.tolist(),\n",
    "                                                     s[\"Tag\"].values.tolist())]\n",
    "\n",
    "        \n",
    "        # error: # bi loi cau thu 8 ???? ko lay lai data trung khop voi output_format.txt \n",
    "        # solution :: rajouter cette option sort=False dans groupby... garder l ordre du dataframe        \n",
    "        #self.grouped = self.data.groupby(\"Sentence #\").apply(agg_func)   # old version\n",
    "        self.grouped = self.data.groupby(\"Sentence #\", sort=False).apply(agg_func)  # new version\n",
    "\n",
    "        self.sentences = [s for s in self.grouped]\n",
    "    \n",
    "    def get_next(self):\n",
    "        try:\n",
    "            s = self.grouped[\"Sentence: {}\".format(self.n_sent)]\n",
    "            self.n_sent += 1\n",
    "            return s\n",
    "        except:\n",
    "            return None"
   ]
  },
  {
   "cell_type": "code",
   "execution_count": 77,
   "metadata": {
    "ExecuteTime": {
     "end_time": "2019-07-15T19:39:26.601628Z",
     "start_time": "2019-07-15T19:39:26.586659Z"
    }
   },
   "outputs": [
    {
     "name": "stdout",
     "output_type": "stream",
     "text": [
      "<class 'pandas.core.frame.DataFrame'>\n",
      "RangeIndex: 486 entries, 0 to 485\n",
      "Data columns (total 3 columns):\n",
      "Sentence #    486 non-null object\n",
      "Word          486 non-null object\n",
      "Tag           486 non-null object\n",
      "dtypes: object(3)\n",
      "memory usage: 11.5+ KB\n"
     ]
    },
    {
     "data": {
      "text/html": [
       "<div>\n",
       "<style scoped>\n",
       "    .dataframe tbody tr th:only-of-type {\n",
       "        vertical-align: middle;\n",
       "    }\n",
       "\n",
       "    .dataframe tbody tr th {\n",
       "        vertical-align: top;\n",
       "    }\n",
       "\n",
       "    .dataframe thead th {\n",
       "        text-align: right;\n",
       "    }\n",
       "</style>\n",
       "<table border=\"1\" class=\"dataframe\">\n",
       "  <thead>\n",
       "    <tr style=\"text-align: right;\">\n",
       "      <th></th>\n",
       "      <th>Sentence #</th>\n",
       "      <th>Word</th>\n",
       "      <th>Tag</th>\n",
       "    </tr>\n",
       "  </thead>\n",
       "  <tbody>\n",
       "    <tr>\n",
       "      <th>0</th>\n",
       "      <td>Sentence: 1</td>\n",
       "      <td>양</td>\n",
       "      <td>B</td>\n",
       "    </tr>\n",
       "    <tr>\n",
       "      <th>1</th>\n",
       "      <td>Sentence: 1</td>\n",
       "      <td>승</td>\n",
       "      <td>I</td>\n",
       "    </tr>\n",
       "    <tr>\n",
       "      <th>2</th>\n",
       "      <td>Sentence: 1</td>\n",
       "      <td>태</td>\n",
       "      <td>I</td>\n",
       "    </tr>\n",
       "    <tr>\n",
       "      <th>3</th>\n",
       "      <td>Sentence: 1</td>\n",
       "      <td>사</td>\n",
       "      <td>I</td>\n",
       "    </tr>\n",
       "    <tr>\n",
       "      <th>4</th>\n",
       "      <td>Sentence: 1</td>\n",
       "      <td>법</td>\n",
       "      <td>B</td>\n",
       "    </tr>\n",
       "    <tr>\n",
       "      <th>5</th>\n",
       "      <td>Sentence: 1</td>\n",
       "      <td>부</td>\n",
       "      <td>I</td>\n",
       "    </tr>\n",
       "    <tr>\n",
       "      <th>6</th>\n",
       "      <td>Sentence: 1</td>\n",
       "      <td>법</td>\n",
       "      <td>I</td>\n",
       "    </tr>\n",
       "    <tr>\n",
       "      <th>7</th>\n",
       "      <td>Sentence: 1</td>\n",
       "      <td>원</td>\n",
       "      <td>B</td>\n",
       "    </tr>\n",
       "    <tr>\n",
       "      <th>8</th>\n",
       "      <td>Sentence: 1</td>\n",
       "      <td>행</td>\n",
       "      <td>I</td>\n",
       "    </tr>\n",
       "    <tr>\n",
       "      <th>9</th>\n",
       "      <td>Sentence: 1</td>\n",
       "      <td>정</td>\n",
       "      <td>I</td>\n",
       "    </tr>\n",
       "  </tbody>\n",
       "</table>\n",
       "</div>"
      ],
      "text/plain": [
       "    Sentence # Word Tag\n",
       "0  Sentence: 1    양   B\n",
       "1  Sentence: 1    승   I\n",
       "2  Sentence: 1    태   I\n",
       "3  Sentence: 1    사   I\n",
       "4  Sentence: 1    법   B\n",
       "5  Sentence: 1    부   I\n",
       "6  Sentence: 1    법   I\n",
       "7  Sentence: 1    원   B\n",
       "8  Sentence: 1    행   I\n",
       "9  Sentence: 1    정   I"
      ]
     },
     "execution_count": 77,
     "metadata": {},
     "output_type": "execute_result"
    }
   ],
   "source": [
    "### 1. Loading data\n",
    "f_temp = open(path_output_row_prediction_target, 'w', encoding='utf-8')\n",
    "\n",
    "# 1. Input : loading data\n",
    "data = pd.read_csv(path_output_col_prediction_target, delimiter='\\t',\n",
    "                   header=None, \n",
    "                   encoding='utf-8', \n",
    "                   quoting=3  # means QUOTE_NONE\n",
    "                   )\n",
    "\n",
    "data = data.rename(columns={0:'Sentence #', 1:'Word', 2: 'Tag'}) \n",
    "\n",
    "data.info()\n",
    "data.head(10)"
   ]
  },
  {
   "cell_type": "code",
   "execution_count": 80,
   "metadata": {
    "ExecuteTime": {
     "end_time": "2019-07-15T19:41:17.668246Z",
     "start_time": "2019-07-15T19:41:17.658266Z"
    }
   },
   "outputs": [
    {
     "name": "stdout",
     "output_type": "stream",
     "text": [
      "\n",
      ">>> 8th sentence looks like: \n",
      "[('김', 'I'), ('대', 'B'), ('중', 'I'), ('대', 'I'), ('통', 'I'), ('령', 'I'), ('의', 'B'), ('청', 'I'), ('렴', 'I'), ('도', 'I'), ('M', 'I'), ('B', 'I'), ('국', 'B'), ('정', 'I'), ('원', 'I'), ('D', 'I'), ('J', 'I'), ('비', 'I'), ('자', 'B'), ('금', 'I'), ('캐', 'I'), ('려', 'I'), ('고', 'I'), ('美', 'I'), ('국', 'B'), ('세', 'I'), ('청', 'I'), ('직', 'I'), ('원', 'I'), ('에', 'I'), ('뇌', 'I'), ('물', 'I'), ('저', 'I'), ('리', 'B'), ('털', 'I'), ('었', 'I'), ('는', 'B'), ('데', 'I'), ('아', 'B'), ('무', 'I'), ('것', 'I'), ('도', 'I'), ('안', 'I'), ('나', 'I'), ('오', 'I'), ('다', 'I'), ('니', 'O'), ('김', 'B'), ('대', 'I'), ('중', 'O')]\n",
      "\n",
      ">>> #sentences_in_col_format =  11\n"
     ]
    }
   ],
   "source": [
    "### 2. Process\n",
    "getter = SentenceGetter(data)\n",
    "\n",
    "# to regroup all sentences\n",
    "sentences = getter.sentences\n",
    "\n",
    "print(\"\\n>>> 8th sentence looks like: \")\n",
    "print(sentences[7]) \n",
    "print(\"\\n>>> #sentences_in_col_format = \", len(sentences))  # all sentences for the test set\n",
    "\n",
    "raw_data = [[(w,t) for w,t in s] for s in sentences]   # list of sentences"
   ]
  },
  {
   "cell_type": "code",
   "execution_count": 81,
   "metadata": {
    "ExecuteTime": {
     "end_time": "2019-07-15T19:41:21.114895Z",
     "start_time": "2019-07-15T19:41:20.970277Z"
    }
   },
   "outputs": [
    {
     "data": {
      "text/plain": [
       "Text(0, 0.5, '#examples')"
      ]
     },
     "execution_count": 81,
     "metadata": {},
     "output_type": "execute_result"
    },
    {
     "data": {
      "image/png": "[encoded data removed]",
      "text/plain": [
       "<Figure size 432x288 with 1 Axes>"
      ]
     },
     "metadata": {
      "needs_background": "light"
     },
     "output_type": "display_data"
    }
   ],
   "source": [
    "# visualize with graphics\n",
    "plt.hist([len(s) for s in sentences], bins=30)\n",
    "plt.title(\"Statistics of the corpus\")\n",
    "plt.xlabel('length of sentences')\n",
    "plt.ylabel('#examples')\n",
    "#plt.show()"
   ]
  },
  {
   "cell_type": "code",
   "execution_count": 82,
   "metadata": {
    "ExecuteTime": {
     "end_time": "2019-07-15T19:41:22.768196Z",
     "start_time": "2019-07-15T19:41:22.753261Z"
    }
   },
   "outputs": [
    {
     "name": "stdout",
     "output_type": "stream",
     "text": [
      "\n",
      ">>> Converting the column format into the row format...\n",
      "\n",
      "#1: 양승태사 법부법 원행정 처가박근 혜전 대통 령의세 월 호7시 간행 적관 련명 예훼손 사건형사재 판부 판 결내용 을 사 실상 미\n",
      "#2: \"이재명이대로괜찮 은걸 ㄹ까요오늘도국민청 원 달리ㅂ니다 불법폭 력조 직 코 마트레이 드와 연루 되ㄴ성 남 시장은수 미\n",
      "#3: Goodm orn in gTw itt erw orldJustf iv em in ut es\n",
      "#4: 이상하게 얘기하 면나바로 끊어버 리ㄹ 거야 잘 안들리ㅂ니다 예의 가 없어 예의 가안되어 예의 가 없어 예의 가\n",
      "#5: 주진우가이랬어었단 말이 지하나쁘ㄴ놈이네‼‼\n",
      "#6: 김 종필 문재인이 대통 령되 면김정 은이만나 러갈 ㄴ다니 빌 어먹 을자 식육성인터뷰공개 용서이라 는것은말이지요사람 에\n",
      "#7: 김종 필훈 장 추서 반대국민청원사 람이죽으면 애도하어야맞습니 다그러나박정 희와 함께오늘날 일어나 ㄴ한국사회적 폐\n",
      "#8: 김 대중대통령 의청렴도MB 국정원DJ비 자금캐려고美 국세청직원에뇌물저 리털었 는데 아무것도안나오다 니 김대 중\n",
      "#9: 인을가 지ㄴ사 람만이통 치하는 위치에있어야 하며인 을갖추 지못하ㄴ 사람이통 치하는 위치에있으 면그좋 지못 하 ㄴ 행위\n",
      "#10: 문파초짜 들 은이것만 기 억하시 면되ㅂ니다 15 년전과달라지ㄴ건문 재인과문파이ㅂ니다업 그레이드 되ㄴ 노무현이 문\n",
      "#11: 소 방차에 길안비키어주 면과 태료 왕창물게 되ㅂ니다 58만원 100만원\n",
      "\n",
      "...done\n",
      "\n",
      "...saved to file path: ./outputs/output_prediction_format_row.txt\n"
     ]
    }
   ],
   "source": [
    "count = 0  # variable to count all sentences\n",
    "\n",
    "print('\\n>>> Converting the column format into the row format...\\n')\n",
    "# loop\n",
    "for sentence_tag in raw_data:\n",
    "    count += 1\n",
    "    #print(sentence_tag)  #list of tuple\n",
    "    #if count == 1:\n",
    "    #    break\n",
    "    \n",
    "    # loop for all words in 1 sentence :: list of tuple\n",
    "    prev_tag = \"O\" # flag\n",
    "    tempo = \"\"\n",
    "    for token, tag in sentence_tag:      \n",
    "        if tag == \"O\": # for tag O\n",
    "            tempo += \" \" + token #+ \"_O \"\n",
    "            prev_tag = tag\n",
    "            continue\n",
    "        if tag != \"O\" and prev_tag == \"O\": # begin B\n",
    "            tempo += \" \" + token #+ \"_B \"\n",
    "            prev_tag = tag\n",
    "        elif prev_tag != \"O\" and tag == \"I\": # inside I\n",
    "            tempo += token #+ \"_I \"\n",
    "            prev_tag = tag\n",
    "        elif prev_tag != \"O\" and tag != \"I\": # adjacent B\n",
    "            tempo += \" \" + token #+ \"_B \"\n",
    "            prev_tag = tag\n",
    "    \n",
    "    print('#' + str(count) + ': ' + tempo.strip())\n",
    "\n",
    "\t# write a newline\n",
    "    f_temp.write(tempo.strip() + \"\\n\")\n",
    "\n",
    "print('\\n...done')\n",
    "print('\\n...saved to file path: ' + path_output_row_prediction_target)   "
   ]
  },
  {
   "cell_type": "code",
   "execution_count": 83,
   "metadata": {
    "ExecuteTime": {
     "end_time": "2019-07-15T19:41:25.926954Z",
     "start_time": "2019-07-15T19:41:25.921960Z"
    }
   },
   "outputs": [
    {
     "name": "stdout",
     "output_type": "stream",
     "text": [
      "\n",
      ">>> #sentences_in_row_format = 11\n"
     ]
    }
   ],
   "source": [
    "### 3. Output display\n",
    "print(\"\\n>>> #sentences_in_row_format = \" + str(count))\n",
    "\n",
    "f_temp.close()"
   ]
  },
  {
   "cell_type": "code",
   "execution_count": 84,
   "metadata": {
    "ExecuteTime": {
     "end_time": "2019-07-15T19:41:48.062898Z",
     "start_time": "2019-07-15T19:41:48.056939Z"
    }
   },
   "outputs": [
    {
     "name": "stdout",
     "output_type": "stream",
     "text": [
      "==================================================\n",
      "FINISH WITH SUCCESSFUL.\n",
      "==================================================\n"
     ]
    }
   ],
   "source": [
    "print(\"=\"*50)\n",
    "print(\"FINISH WITH SUCCESSFUL.\")\n",
    "print(\"=\"*50)"
   ]
  },
  {
   "cell_type": "code",
   "execution_count": null,
   "metadata": {},
   "outputs": [],
   "source": []
  }
 ],
 "metadata": {
  "kernelspec": {
   "display_name": "Python 3",
   "language": "python",
   "name": "python3"
  },
  "language_info": {
   "codemirror_mode": {
    "name": "ipython",
    "version": 3
   },
   "file_extension": ".py",
   "mimetype": "text/x-python",
   "name": "python",
   "nbconvert_exporter": "python",
   "pygments_lexer": "ipython3",
   "version": "3.6.8"
  },
  "toc": {
   "base_numbering": 1,
   "nav_menu": {},
   "number_sections": true,
   "sideBar": true,
   "skip_h1_title": false,
   "title_cell": "Table of Contents",
   "title_sidebar": "Contents",
   "toc_cell": false,
   "toc_position": {
    "height": "calc(100% - 180px)",
    "left": "10px",
    "top": "150px",
    "width": "280.764px"
   },
   "toc_section_display": true,
   "toc_window_display": true
  }
 },
 "nbformat": 4,
 "nbformat_minor": 2
}
